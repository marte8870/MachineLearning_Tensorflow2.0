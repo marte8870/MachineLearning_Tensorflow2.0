{
 "cells": [
  {
   "cell_type": "markdown",
   "metadata": {},
   "source": [
    "# RNN - Clasificación de Texto\n",
    "- Objetivo: Implementar RNN y LSTM para la clasificación de secuencias (texto). Aplicar inicialización de pesos y dropout en modelos recurrentes. \n",
    "\n",
    "- Conocer efectos de inicialización y dropout en RNN y comparar con MLP\n",
    "\n",
    "\n",
    "![RNN](img/1.png)"
   ]
  },
  {
   "cell_type": "markdown",
   "metadata": {},
   "source": [
    "## Redes Neuronales Recurrentes\n",
    "\n",
    "\n",
    "- Cada capa en cada iteración comparte parámetros\n",
    "\n",
    "- 'sparse_categorical_crossentropy' se utiliza para varias clases\n"
   ]
  },
  {
   "cell_type": "markdown",
   "metadata": {},
   "source": [
    "## Leer Dataset"
   ]
  },
  {
   "cell_type": "code",
   "execution_count": 1,
   "metadata": {},
   "outputs": [],
   "source": [
    "from tensorflow.keras.models import Model\n",
    "from tensorflow.keras.layers import LSTM, Embedding, Dense, SimpleRNN\n",
    "from tensorflow.keras.datasets import reuters\n",
    "from tensorflow.keras.models import Sequential\n",
    "from tensorflow import keras\n",
    "import numpy as np\n",
    "from tensorflow.keras.preprocessing.sequence import pad_sequences\n",
    "import matplotlib.pyplot as plt"
   ]
  },
  {
   "cell_type": "markdown",
   "metadata": {},
   "source": [
    "##  11,228 noticias de Reuters, con más de 46 temas."
   ]
  },
  {
   "cell_type": "code",
   "execution_count": 2,
   "metadata": {},
   "outputs": [],
   "source": [
    "# parámetros \n",
    "emb_dim = 64\n",
    "num_words = 8000\n",
    "max_words = 40\n"
   ]
  },
  {
   "cell_type": "code",
   "execution_count": 3,
   "metadata": {
    "scrolled": true
   },
   "outputs": [],
   "source": [
    "(x_train, y_train), (x_test, y_test) = reuters.load_data(num_words = num_words, maxlen=max_words)"
   ]
  },
  {
   "cell_type": "code",
   "execution_count": 4,
   "metadata": {},
   "outputs": [
    {
     "data": {
      "text/plain": [
       "(1084,)"
      ]
     },
     "execution_count": 4,
     "metadata": {},
     "output_type": "execute_result"
    }
   ],
   "source": [
    "x_train.shape"
   ]
  },
  {
   "cell_type": "code",
   "execution_count": 5,
   "metadata": {},
   "outputs": [
    {
     "name": "stdout",
     "output_type": "stream",
     "text": [
      "Noticia\n",
      "[1, 245, 273, 207, 156, 53, 74, 160, 26, 14, 46, 296, 26, 39, 74, 2979, 3554, 14, 46, 4689, 4329, 86, 61, 3499, 4795, 14, 61, 451, 4329, 17, 12]\n",
      "Etiqueta\n",
      "3\n"
     ]
    }
   ],
   "source": [
    "print('Noticia')\n",
    "print(x_train[0])\n",
    "print('Etiqueta')\n",
    "print(y_train[0])"
   ]
  },
  {
   "cell_type": "markdown",
   "metadata": {},
   "source": [
    "## Palabras de noticia"
   ]
  },
  {
   "cell_type": "code",
   "execution_count": 6,
   "metadata": {},
   "outputs": [
    {
     "name": "stdout",
     "output_type": "stream",
     "text": [
      "Noticia:  [None, 'period', 'ended', 'december', '31', 'shr', 'profit', '11', 'cts', 'vs', 'loss', '24', 'cts', 'net', 'profit', '224', '271', 'vs', 'loss', '511', '349', 'revs', '7', '258', '688', 'vs', '7', '200', '349', 'reuter', '3'] Longitud noticia:  31\n"
     ]
    }
   ],
   "source": [
    "wordDict = {y:x for x,y in reuters.get_word_index().items()}  \n",
    "res = []\n",
    "for index in x_train[0]:\n",
    "    res.append(wordDict.get(index - 3))\n",
    "print('Noticia: ',res,'Longitud noticia: ', len(res))"
   ]
  },
  {
   "cell_type": "code",
   "execution_count": 7,
   "metadata": {},
   "outputs": [],
   "source": [
    "x_train = pad_sequences(x_train, maxlen=max_words, padding = 'post')\n",
    "x_test = pad_sequences(x_test, maxlen=max_words, padding = 'post')"
   ]
  },
  {
   "cell_type": "code",
   "execution_count": 8,
   "metadata": {},
   "outputs": [],
   "source": [
    "epoch = 40\n",
    "verbose = 1\n",
    "batch = 50"
   ]
  },
  {
   "cell_type": "code",
   "execution_count": 9,
   "metadata": {},
   "outputs": [
    {
     "name": "stdout",
     "output_type": "stream",
     "text": [
      "(1084, 40)\n",
      "(272, 40)\n",
      "(1084,)\n",
      "(272,)\n"
     ]
    }
   ],
   "source": [
    "\n",
    "print(x_train.shape)\n",
    "print(x_test.shape)\n",
    "print(y_train.shape)\n",
    "print(y_test.shape)"
   ]
  },
  {
   "cell_type": "code",
   "execution_count": 10,
   "metadata": {},
   "outputs": [
    {
     "data": {
      "text/plain": [
       "array([   1,  245,  273,  207,  156,   53,   74,  160,   26,   14,   46,\n",
       "        296,   26,   39,   74, 2979, 3554,   14,   46, 4689, 4329,   86,\n",
       "         61, 3499, 4795,   14,   61,  451, 4329,   17,   12,    0,    0,\n",
       "          0,    0,    0,    0,    0,    0,    0], dtype=int32)"
      ]
     },
     "execution_count": 10,
     "metadata": {},
     "output_type": "execute_result"
    }
   ],
   "source": [
    "x_train[0]"
   ]
  },
  {
   "cell_type": "markdown",
   "metadata": {},
   "source": [
    "## Deep RNN \n",
    "- Cuando se conectan varias capas de RNNs se modifica el parámetro 'return_sequences'\n",
    "- Se inicializan los pesos con 'glorot_uniform'"
   ]
  },
  {
   "cell_type": "code",
   "execution_count": 11,
   "metadata": {},
   "outputs": [],
   "source": [
    "def deep_rnn():\n",
    "    model = Sequential()\n",
    "    model.add(Embedding(num_words, emb_dim))\n",
    "    model.add(SimpleRNN(32, return_sequences = True, recurrent_initializer='glorot_uniform'))\n",
    "    model.add(SimpleRNN(32, return_sequences = False, recurrent_initializer='glorot_uniform'))\n",
    "    model.add(Dense(46, activation = 'softmax'))\n",
    "    \n",
    "    model.compile(loss='sparse_categorical_crossentropy', optimizer='adam', metrics=['accuracy'])\n",
    "    \n",
    "    return model"
   ]
  },
  {
   "cell_type": "code",
   "execution_count": 12,
   "metadata": {},
   "outputs": [
    {
     "name": "stdout",
     "output_type": "stream",
     "text": [
      "Model: \"sequential\"\n",
      "_________________________________________________________________\n",
      "Layer (type)                 Output Shape              Param #   \n",
      "=================================================================\n",
      "embedding (Embedding)        (None, None, 64)          512000    \n",
      "_________________________________________________________________\n",
      "simple_rnn (SimpleRNN)       (None, None, 32)          3104      \n",
      "_________________________________________________________________\n",
      "simple_rnn_1 (SimpleRNN)     (None, 32)                2080      \n",
      "_________________________________________________________________\n",
      "dense (Dense)                (None, 46)                1518      \n",
      "=================================================================\n",
      "Total params: 518,702\n",
      "Trainable params: 518,702\n",
      "Non-trainable params: 0\n",
      "_________________________________________________________________\n"
     ]
    }
   ],
   "source": [
    "model = deep_rnn()\n",
    "model.summary()"
   ]
  },
  {
   "cell_type": "code",
   "execution_count": 13,
   "metadata": {},
   "outputs": [
    {
     "name": "stdout",
     "output_type": "stream",
     "text": [
      "Train on 758 samples, validate on 326 samples\n",
      "Epoch 1/40\n",
      "758/758 [==============================] - 2s 3ms/sample - loss: 2.7716 - accuracy: 0.6240 - val_loss: 1.8396 - val_accuracy: 0.7853\n",
      "Epoch 2/40\n",
      "758/758 [==============================] - 1s 886us/sample - loss: 1.5105 - accuracy: 0.7718 - val_loss: 1.1544 - val_accuracy: 0.7853\n",
      "Epoch 3/40\n",
      "758/758 [==============================] - 1s 998us/sample - loss: 1.1607 - accuracy: 0.7718 - val_loss: 1.0342 - val_accuracy: 0.7853\n",
      "Epoch 4/40\n",
      "758/758 [==============================] - 1s 937us/sample - loss: 1.0992 - accuracy: 0.7718 - val_loss: 0.9973 - val_accuracy: 0.7853\n",
      "Epoch 5/40\n",
      "758/758 [==============================] - 1s 1ms/sample - loss: 1.0718 - accuracy: 0.7718 - val_loss: 0.9813 - val_accuracy: 0.7853\n",
      "Epoch 6/40\n",
      "758/758 [==============================] - 1s 824us/sample - loss: 1.0595 - accuracy: 0.7718 - val_loss: 0.9728 - val_accuracy: 0.7853\n",
      "Epoch 7/40\n",
      "758/758 [==============================] - 1s 922us/sample - loss: 1.0503 - accuracy: 0.7718 - val_loss: 0.9678 - val_accuracy: 0.7853\n",
      "Epoch 8/40\n",
      "758/758 [==============================] - 1s 877us/sample - loss: 1.0444 - accuracy: 0.7718 - val_loss: 0.9649 - val_accuracy: 0.7853\n",
      "Epoch 9/40\n",
      "758/758 [==============================] - 1s 855us/sample - loss: 1.0403 - accuracy: 0.7718 - val_loss: 0.9629 - val_accuracy: 0.7853\n",
      "Epoch 10/40\n",
      "758/758 [==============================] - 1s 870us/sample - loss: 1.0373 - accuracy: 0.7718 - val_loss: 0.9619 - val_accuracy: 0.7853\n",
      "Epoch 11/40\n",
      "758/758 [==============================] - 1s 870us/sample - loss: 1.0345 - accuracy: 0.7718 - val_loss: 0.9598 - val_accuracy: 0.7853\n",
      "Epoch 12/40\n",
      "758/758 [==============================] - 1s 890us/sample - loss: 1.0320 - accuracy: 0.7718 - val_loss: 0.9580 - val_accuracy: 0.7853\n",
      "Epoch 13/40\n",
      "758/758 [==============================] - 1s 1ms/sample - loss: 1.0313 - accuracy: 0.7718 - val_loss: 0.9583 - val_accuracy: 0.7853\n",
      "Epoch 14/40\n",
      "758/758 [==============================] - 1s 846us/sample - loss: 1.0304 - accuracy: 0.7718 - val_loss: 0.9552 - val_accuracy: 0.7853\n",
      "Epoch 15/40\n",
      "758/758 [==============================] - 1s 809us/sample - loss: 1.0293 - accuracy: 0.7718 - val_loss: 0.9554 - val_accuracy: 0.7853\n",
      "Epoch 16/40\n",
      "758/758 [==============================] - 1s 900us/sample - loss: 1.0280 - accuracy: 0.7718 - val_loss: 0.9541 - val_accuracy: 0.7853\n",
      "Epoch 17/40\n",
      "758/758 [==============================] - 1s 812us/sample - loss: 1.0279 - accuracy: 0.7718 - val_loss: 0.9533 - val_accuracy: 0.7853\n",
      "Epoch 18/40\n",
      "758/758 [==============================] - 1s 879us/sample - loss: 1.0261 - accuracy: 0.7718 - val_loss: 0.9515 - val_accuracy: 0.7853\n",
      "Epoch 19/40\n",
      "758/758 [==============================] - 1s 870us/sample - loss: 1.0267 - accuracy: 0.7718 - val_loss: 0.9508 - val_accuracy: 0.7853\n",
      "Epoch 20/40\n",
      "758/758 [==============================] - 1s 817us/sample - loss: 1.0268 - accuracy: 0.7718 - val_loss: 0.9541 - val_accuracy: 0.7853\n",
      "Epoch 21/40\n",
      "758/758 [==============================] - 1s 986us/sample - loss: 1.0250 - accuracy: 0.7718 - val_loss: 0.9513 - val_accuracy: 0.7853\n",
      "Epoch 22/40\n",
      "758/758 [==============================] - 1s 915us/sample - loss: 1.0246 - accuracy: 0.7718 - val_loss: 0.9508 - val_accuracy: 0.7853\n",
      "Epoch 23/40\n",
      "758/758 [==============================] - 1s 830us/sample - loss: 1.0241 - accuracy: 0.7718 - val_loss: 0.9508 - val_accuracy: 0.7853\n",
      "Epoch 24/40\n",
      "758/758 [==============================] - 1s 882us/sample - loss: 1.0237 - accuracy: 0.7718 - val_loss: 0.9531 - val_accuracy: 0.7853\n",
      "Epoch 25/40\n",
      "758/758 [==============================] - 1s 880us/sample - loss: 1.0230 - accuracy: 0.7718 - val_loss: 0.9509 - val_accuracy: 0.7853\n",
      "Epoch 26/40\n",
      "758/758 [==============================] - 1s 866us/sample - loss: 1.0235 - accuracy: 0.7718 - val_loss: 0.9501 - val_accuracy: 0.7853\n",
      "Epoch 27/40\n",
      "758/758 [==============================] - 1s 939us/sample - loss: 1.0239 - accuracy: 0.7718 - val_loss: 0.9515 - val_accuracy: 0.7853\n",
      "Epoch 28/40\n",
      "758/758 [==============================] - 1s 958us/sample - loss: 1.0244 - accuracy: 0.7718 - val_loss: 0.9512 - val_accuracy: 0.7853\n",
      "Epoch 29/40\n",
      "758/758 [==============================] - 1s 933us/sample - loss: 1.0221 - accuracy: 0.7718 - val_loss: 0.9500 - val_accuracy: 0.7853\n",
      "Epoch 30/40\n",
      "758/758 [==============================] - 1s 858us/sample - loss: 1.0229 - accuracy: 0.7718 - val_loss: 0.9507 - val_accuracy: 0.7853\n",
      "Epoch 31/40\n",
      "758/758 [==============================] - 1s 838us/sample - loss: 1.0228 - accuracy: 0.7718 - val_loss: 0.9511 - val_accuracy: 0.7853\n",
      "Epoch 32/40\n",
      "758/758 [==============================] - 1s 922us/sample - loss: 1.0225 - accuracy: 0.7718 - val_loss: 0.9522 - val_accuracy: 0.7853\n",
      "Epoch 33/40\n",
      "758/758 [==============================] - 1s 940us/sample - loss: 1.0227 - accuracy: 0.7718 - val_loss: 0.9509 - val_accuracy: 0.7853\n",
      "Epoch 34/40\n",
      "758/758 [==============================] - 1s 923us/sample - loss: 1.0220 - accuracy: 0.7718 - val_loss: 0.9511 - val_accuracy: 0.7853\n",
      "Epoch 35/40\n",
      "758/758 [==============================] - 1s 943us/sample - loss: 1.0213 - accuracy: 0.7718 - val_loss: 0.9527 - val_accuracy: 0.7853\n",
      "Epoch 36/40\n",
      "758/758 [==============================] - 1s 1ms/sample - loss: 1.0220 - accuracy: 0.7718 - val_loss: 0.9529 - val_accuracy: 0.7853\n",
      "Epoch 37/40\n",
      "758/758 [==============================] - 1s 884us/sample - loss: 1.0227 - accuracy: 0.7718 - val_loss: 0.9526 - val_accuracy: 0.7853\n",
      "Epoch 38/40\n",
      "758/758 [==============================] - 1s 975us/sample - loss: 1.0214 - accuracy: 0.7718 - val_loss: 0.9524 - val_accuracy: 0.7853\n",
      "Epoch 39/40\n",
      "758/758 [==============================] - 1s 967us/sample - loss: 1.0215 - accuracy: 0.7718 - val_loss: 0.9519 - val_accuracy: 0.7853\n",
      "Epoch 40/40\n",
      "758/758 [==============================] - 1s 1ms/sample - loss: 1.0213 - accuracy: 0.7718 - val_loss: 0.9507 - val_accuracy: 0.7853\n"
     ]
    }
   ],
   "source": [
    "history = model.fit(x_train, y_train, batch_size = batch, validation_split = 0.3, \n",
    "                    epochs = epoch, verbose = verbose)"
   ]
  },
  {
   "cell_type": "code",
   "execution_count": 14,
   "metadata": {},
   "outputs": [
    {
     "name": "stdout",
     "output_type": "stream",
     "text": [
      "272/1 - 0s - loss: 1.1919 - accuracy: 0.8272\n",
      "\n",
      "Test acccuracy: 0.8272059\n"
     ]
    }
   ],
   "source": [
    "test_loss, test_acc = model.evaluate(x_test,  y_test, verbose=2)\n",
    "\n",
    "print('\\nTest acccuracy:', test_acc)"
   ]
  },
  {
   "cell_type": "code",
   "execution_count": 15,
   "metadata": {},
   "outputs": [
    {
     "data": {
      "image/png": "[encoded data removed]",
      "text/plain": [
       "<Figure size 720x648 with 2 Axes>"
      ]
     },
     "metadata": {
      "needs_background": "light"
     },
     "output_type": "display_data"
    }
   ],
   "source": [
    "#plot\n",
    "plt.figure(figsize=(10,9))\n",
    "\n",
    "plt.subplot(211)\n",
    "plt.plot(history.history['accuracy'])\n",
    "plt.plot(history.history['val_accuracy'])\n",
    "plt.title('accuracy')\n",
    "plt.legend(['train', 'test'])\n",
    "plt.grid()\n",
    "plt.subplot(212)\n",
    "plt.plot(history.history['loss'])\n",
    "plt.plot(history.history['val_loss'])\n",
    "plt.title('loss')\n",
    "plt.legend(['train', 'test'])\n",
    "plt.grid()\n",
    "\n",
    "\n",
    "\n",
    "\n",
    "plt.show()"
   ]
  },
  {
   "cell_type": "markdown",
   "metadata": {},
   "source": [
    "## LSTM\n",
    "- Desempeño de LSTM con una capa vs. deep RNN\n"
   ]
  },
  {
   "cell_type": "code",
   "execution_count": 16,
   "metadata": {},
   "outputs": [],
   "source": [
    "def lstm():\n",
    "    model = Sequential()\n",
    "    model.add(Embedding(num_words, emb_dim))\n",
    "    model.add(LSTM(32, return_sequences = False))\n",
    "    model.add(Dense(46, activation = 'softmax'))\n",
    "    \n",
    "    model.compile(loss='sparse_categorical_crossentropy', optimizer='adam', metrics=['accuracy'])\n",
    "    \n",
    "    return model"
   ]
  },
  {
   "cell_type": "code",
   "execution_count": 17,
   "metadata": {},
   "outputs": [
    {
     "name": "stdout",
     "output_type": "stream",
     "text": [
      "Model: \"sequential_1\"\n",
      "_________________________________________________________________\n",
      "Layer (type)                 Output Shape              Param #   \n",
      "=================================================================\n",
      "embedding_1 (Embedding)      (None, None, 64)          512000    \n",
      "_________________________________________________________________\n",
      "lstm (LSTM)                  (None, 32)                12416     \n",
      "_________________________________________________________________\n",
      "dense_1 (Dense)              (None, 46)                1518      \n",
      "=================================================================\n",
      "Total params: 525,934\n",
      "Trainable params: 525,934\n",
      "Non-trainable params: 0\n",
      "_________________________________________________________________\n"
     ]
    }
   ],
   "source": [
    "model = lstm()\n",
    "model.summary()"
   ]
  },
  {
   "cell_type": "code",
   "execution_count": 18,
   "metadata": {},
   "outputs": [
    {
     "name": "stdout",
     "output_type": "stream",
     "text": [
      "Train on 758 samples, validate on 326 samples\n",
      "Epoch 1/40\n",
      "758/758 [==============================] - 2s 3ms/sample - loss: 3.7126 - accuracy: 0.5858 - val_loss: 3.4231 - val_accuracy: 0.7853\n",
      "Epoch 2/40\n",
      "758/758 [==============================] - 0s 257us/sample - loss: 2.7176 - accuracy: 0.7718 - val_loss: 1.8686 - val_accuracy: 0.7853\n",
      "Epoch 3/40\n",
      "758/758 [==============================] - 0s 256us/sample - loss: 1.5607 - accuracy: 0.7718 - val_loss: 1.2139 - val_accuracy: 0.7853\n",
      "Epoch 4/40\n",
      "758/758 [==============================] - 0s 251us/sample - loss: 1.1844 - accuracy: 0.7718 - val_loss: 1.0466 - val_accuracy: 0.7853\n",
      "Epoch 5/40\n",
      "758/758 [==============================] - 0s 255us/sample - loss: 1.0998 - accuracy: 0.7718 - val_loss: 1.0037 - val_accuracy: 0.7853\n",
      "Epoch 6/40\n",
      "758/758 [==============================] - 0s 245us/sample - loss: 1.0740 - accuracy: 0.7718 - val_loss: 0.9843 - val_accuracy: 0.7853\n",
      "Epoch 7/40\n",
      "758/758 [==============================] - 0s 231us/sample - loss: 1.0598 - accuracy: 0.7718 - val_loss: 0.9732 - val_accuracy: 0.7853\n",
      "Epoch 8/40\n",
      "758/758 [==============================] - 0s 243us/sample - loss: 1.0517 - accuracy: 0.7718 - val_loss: 0.9671 - val_accuracy: 0.7853\n",
      "Epoch 9/40\n",
      "758/758 [==============================] - 0s 252us/sample - loss: 1.0458 - accuracy: 0.7718 - val_loss: 0.9618 - val_accuracy: 0.7853\n",
      "Epoch 10/40\n",
      "758/758 [==============================] - 0s 259us/sample - loss: 1.0410 - accuracy: 0.7718 - val_loss: 0.9598 - val_accuracy: 0.7853\n",
      "Epoch 11/40\n",
      "758/758 [==============================] - 0s 262us/sample - loss: 1.0380 - accuracy: 0.7718 - val_loss: 0.9579 - val_accuracy: 0.7853\n",
      "Epoch 12/40\n",
      "758/758 [==============================] - 0s 244us/sample - loss: 1.0353 - accuracy: 0.7718 - val_loss: 0.9557 - val_accuracy: 0.7853\n",
      "Epoch 13/40\n",
      "758/758 [==============================] - 0s 352us/sample - loss: 1.0332 - accuracy: 0.7718 - val_loss: 0.9557 - val_accuracy: 0.7853\n",
      "Epoch 14/40\n",
      "758/758 [==============================] - 0s 307us/sample - loss: 1.0320 - accuracy: 0.7718 - val_loss: 0.9559 - val_accuracy: 0.7853\n",
      "Epoch 15/40\n",
      "758/758 [==============================] - 0s 299us/sample - loss: 1.0312 - accuracy: 0.7718 - val_loss: 0.9535 - val_accuracy: 0.7853\n",
      "Epoch 16/40\n",
      "758/758 [==============================] - 0s 266us/sample - loss: 1.0291 - accuracy: 0.7718 - val_loss: 0.9525 - val_accuracy: 0.7853\n",
      "Epoch 17/40\n",
      "758/758 [==============================] - 0s 275us/sample - loss: 1.0282 - accuracy: 0.7718 - val_loss: 0.9517 - val_accuracy: 0.7853\n",
      "Epoch 18/40\n",
      "758/758 [==============================] - 0s 352us/sample - loss: 1.0284 - accuracy: 0.7718 - val_loss: 0.9526 - val_accuracy: 0.7853\n",
      "Epoch 19/40\n",
      "758/758 [==============================] - 0s 301us/sample - loss: 1.0262 - accuracy: 0.7718 - val_loss: 0.9528 - val_accuracy: 0.7853\n",
      "Epoch 20/40\n",
      "758/758 [==============================] - 0s 253us/sample - loss: 1.0268 - accuracy: 0.7718 - val_loss: 0.9511 - val_accuracy: 0.7853\n",
      "Epoch 21/40\n",
      "758/758 [==============================] - 0s 312us/sample - loss: 1.0253 - accuracy: 0.7718 - val_loss: 0.9513 - val_accuracy: 0.7853\n",
      "Epoch 22/40\n",
      "758/758 [==============================] - 0s 328us/sample - loss: 1.0250 - accuracy: 0.7718 - val_loss: 0.9507 - val_accuracy: 0.7853\n",
      "Epoch 23/40\n",
      "758/758 [==============================] - 0s 264us/sample - loss: 1.0248 - accuracy: 0.7718 - val_loss: 0.9498 - val_accuracy: 0.7853\n",
      "Epoch 24/40\n",
      "758/758 [==============================] - 0s 274us/sample - loss: 1.0243 - accuracy: 0.7718 - val_loss: 0.9493 - val_accuracy: 0.7853\n",
      "Epoch 25/40\n",
      "758/758 [==============================] - 0s 285us/sample - loss: 1.0233 - accuracy: 0.7718 - val_loss: 0.9484 - val_accuracy: 0.7853\n",
      "Epoch 26/40\n",
      "758/758 [==============================] - 0s 293us/sample - loss: 1.0251 - accuracy: 0.7718 - val_loss: 0.9491 - val_accuracy: 0.7853\n",
      "Epoch 27/40\n",
      "758/758 [==============================] - 0s 272us/sample - loss: 1.0225 - accuracy: 0.7718 - val_loss: 0.9507 - val_accuracy: 0.7853\n",
      "Epoch 28/40\n",
      "758/758 [==============================] - 0s 277us/sample - loss: 1.0226 - accuracy: 0.7718 - val_loss: 0.9499 - val_accuracy: 0.7853\n",
      "Epoch 29/40\n",
      "758/758 [==============================] - 0s 263us/sample - loss: 1.0229 - accuracy: 0.7718 - val_loss: 0.9499 - val_accuracy: 0.7853\n",
      "Epoch 30/40\n",
      "758/758 [==============================] - 0s 268us/sample - loss: 1.0225 - accuracy: 0.7718 - val_loss: 0.9496 - val_accuracy: 0.7853\n",
      "Epoch 31/40\n",
      "758/758 [==============================] - 0s 301us/sample - loss: 1.0224 - accuracy: 0.7718 - val_loss: 0.9505 - val_accuracy: 0.7853\n",
      "Epoch 32/40\n",
      "758/758 [==============================] - 0s 270us/sample - loss: 1.0218 - accuracy: 0.7718 - val_loss: 0.9493 - val_accuracy: 0.7853\n",
      "Epoch 33/40\n",
      "758/758 [==============================] - 0s 307us/sample - loss: 1.0229 - accuracy: 0.7718 - val_loss: 0.9489 - val_accuracy: 0.7853\n",
      "Epoch 34/40\n",
      "758/758 [==============================] - 0s 286us/sample - loss: 1.0221 - accuracy: 0.7718 - val_loss: 0.9492 - val_accuracy: 0.7853\n",
      "Epoch 35/40\n",
      "758/758 [==============================] - 0s 296us/sample - loss: 1.0223 - accuracy: 0.7718 - val_loss: 0.9529 - val_accuracy: 0.7853\n",
      "Epoch 36/40\n",
      "758/758 [==============================] - 0s 258us/sample - loss: 1.0226 - accuracy: 0.7718 - val_loss: 0.9504 - val_accuracy: 0.7853\n",
      "Epoch 37/40\n",
      "758/758 [==============================] - 0s 292us/sample - loss: 1.0210 - accuracy: 0.7718 - val_loss: 0.9499 - val_accuracy: 0.7853\n",
      "Epoch 38/40\n",
      "758/758 [==============================] - 0s 244us/sample - loss: 1.0211 - accuracy: 0.7718 - val_loss: 0.9496 - val_accuracy: 0.7853\n",
      "Epoch 39/40\n",
      "758/758 [==============================] - 0s 265us/sample - loss: 1.0199 - accuracy: 0.7718 - val_loss: 0.9490 - val_accuracy: 0.7853\n",
      "Epoch 40/40\n",
      "758/758 [==============================] - 0s 273us/sample - loss: 1.0198 - accuracy: 0.7718 - val_loss: 0.9478 - val_accuracy: 0.7853\n"
     ]
    }
   ],
   "source": [
    "history = model.fit(x_train, y_train, batch_size = batch, validation_split = 0.3, \n",
    "                    epochs = epoch, verbose = verbose)"
   ]
  },
  {
   "cell_type": "code",
   "execution_count": 19,
   "metadata": {},
   "outputs": [
    {
     "name": "stdout",
     "output_type": "stream",
     "text": [
      "272/1 - 0s - loss: 1.1993 - accuracy: 0.8272\n",
      "\n",
      "Test acccuracy: 0.8272059\n"
     ]
    }
   ],
   "source": [
    "test_loss, test_acc = model.evaluate(x_test,  y_test, verbose=2)\n",
    "\n",
    "print('\\nTest acccuracy:', test_acc)"
   ]
  },
  {
   "cell_type": "code",
   "execution_count": 20,
   "metadata": {},
   "outputs": [
    {
     "data": {
      "image/png": "[encoded data removed]",
      "text/plain": [
       "<Figure size 720x648 with 2 Axes>"
      ]
     },
     "metadata": {
      "needs_background": "light"
     },
     "output_type": "display_data"
    }
   ],
   "source": [
    "#plot\n",
    "plt.figure(figsize=(10,9))\n",
    "\n",
    "plt.subplot(211)\n",
    "plt.plot(history.history['accuracy'])\n",
    "plt.plot(history.history['val_accuracy'])\n",
    "plt.title('accuracy')\n",
    "plt.legend(['train', 'test'])\n",
    "plt.grid()\n",
    "plt.subplot(212)\n",
    "plt.plot(history.history['loss'])\n",
    "plt.plot(history.history['val_loss'])\n",
    "plt.title('loss')\n",
    "plt.legend(['train', 'test'])\n",
    "plt.grid()\n",
    "\n",
    "\n",
    "\n",
    "\n",
    "plt.show()"
   ]
  },
  {
   "cell_type": "markdown",
   "metadata": {},
   "source": [
    "## Deep LSTM\n",
    "- LSTM cuentan inicializador 'orthogonal' por defecto"
   ]
  },
  {
   "cell_type": "code",
   "execution_count": 21,
   "metadata": {},
   "outputs": [],
   "source": [
    "def deep_lstm():\n",
    "    model = Sequential()\n",
    "    model.add(Embedding(num_words, emb_dim))\n",
    "    model.add(LSTM(32, return_sequences = True, recurrent_initializer='orthogonal'))\n",
    "    model.add(LSTM(32, return_sequences = False, recurrent_initializer='orthogonal'))\n",
    "    model.add(Dense(46, activation = 'softmax'))\n",
    "    model.compile(loss='sparse_categorical_crossentropy', optimizer='adam', metrics=['accuracy'])\n",
    "    \n",
    "    return model"
   ]
  },
  {
   "cell_type": "code",
   "execution_count": 22,
   "metadata": {},
   "outputs": [
    {
     "name": "stdout",
     "output_type": "stream",
     "text": [
      "Model: \"sequential_2\"\n",
      "_________________________________________________________________\n",
      "Layer (type)                 Output Shape              Param #   \n",
      "=================================================================\n",
      "embedding_2 (Embedding)      (None, None, 64)          512000    \n",
      "_________________________________________________________________\n",
      "lstm_1 (LSTM)                (None, None, 32)          12416     \n",
      "_________________________________________________________________\n",
      "lstm_2 (LSTM)                (None, 32)                8320      \n",
      "_________________________________________________________________\n",
      "dense_2 (Dense)              (None, 46)                1518      \n",
      "=================================================================\n",
      "Total params: 534,254\n",
      "Trainable params: 534,254\n",
      "Non-trainable params: 0\n",
      "_________________________________________________________________\n"
     ]
    }
   ],
   "source": [
    "model = deep_lstm()\n",
    "model.summary()"
   ]
  },
  {
   "cell_type": "code",
   "execution_count": 23,
   "metadata": {},
   "outputs": [
    {
     "name": "stdout",
     "output_type": "stream",
     "text": [
      "Train on 758 samples, validate on 326 samples\n",
      "Epoch 1/40\n",
      "758/758 [==============================] - 3s 4ms/sample - loss: 3.6785 - accuracy: 0.6821 - val_loss: 3.2527 - val_accuracy: 0.7853\n",
      "Epoch 2/40\n",
      "758/758 [==============================] - 0s 286us/sample - loss: 2.3124 - accuracy: 0.7718 - val_loss: 1.3719 - val_accuracy: 0.7853\n",
      "Epoch 3/40\n",
      "758/758 [==============================] - 0s 283us/sample - loss: 1.2686 - accuracy: 0.7718 - val_loss: 1.0970 - val_accuracy: 0.7853\n",
      "Epoch 4/40\n",
      "758/758 [==============================] - 0s 327us/sample - loss: 1.1388 - accuracy: 0.7718 - val_loss: 1.0217 - val_accuracy: 0.7853\n",
      "Epoch 5/40\n",
      "758/758 [==============================] - 0s 348us/sample - loss: 1.0823 - accuracy: 0.7718 - val_loss: 0.9914 - val_accuracy: 0.7853\n",
      "Epoch 6/40\n",
      "758/758 [==============================] - 0s 298us/sample - loss: 1.0622 - accuracy: 0.7718 - val_loss: 0.9756 - val_accuracy: 0.7853\n",
      "Epoch 7/40\n",
      "758/758 [==============================] - 0s 300us/sample - loss: 1.0503 - accuracy: 0.7718 - val_loss: 0.9656 - val_accuracy: 0.7853\n",
      "Epoch 8/40\n",
      "758/758 [==============================] - 0s 308us/sample - loss: 1.0449 - accuracy: 0.7718 - val_loss: 0.9606 - val_accuracy: 0.7853\n",
      "Epoch 9/40\n",
      "758/758 [==============================] - 0s 280us/sample - loss: 1.0382 - accuracy: 0.7718 - val_loss: 0.9575 - val_accuracy: 0.7853\n",
      "Epoch 10/40\n",
      "758/758 [==============================] - 0s 286us/sample - loss: 1.0350 - accuracy: 0.7718 - val_loss: 0.9556 - val_accuracy: 0.7853\n",
      "Epoch 11/40\n",
      "758/758 [==============================] - 0s 291us/sample - loss: 1.0334 - accuracy: 0.7718 - val_loss: 0.9529 - val_accuracy: 0.7853\n",
      "Epoch 12/40\n",
      "758/758 [==============================] - 0s 322us/sample - loss: 1.0319 - accuracy: 0.7718 - val_loss: 0.9529 - val_accuracy: 0.7853\n",
      "Epoch 13/40\n",
      "758/758 [==============================] - 0s 323us/sample - loss: 1.0290 - accuracy: 0.7718 - val_loss: 0.9508 - val_accuracy: 0.7853\n",
      "Epoch 14/40\n",
      "758/758 [==============================] - 0s 288us/sample - loss: 1.0291 - accuracy: 0.7718 - val_loss: 0.9520 - val_accuracy: 0.7853\n",
      "Epoch 15/40\n",
      "758/758 [==============================] - 0s 274us/sample - loss: 1.0271 - accuracy: 0.7718 - val_loss: 0.9502 - val_accuracy: 0.7853\n",
      "Epoch 16/40\n",
      "758/758 [==============================] - 0s 275us/sample - loss: 1.0234 - accuracy: 0.7718 - val_loss: 0.9471 - val_accuracy: 0.7853\n",
      "Epoch 17/40\n",
      "758/758 [==============================] - 0s 285us/sample - loss: 1.0145 - accuracy: 0.7718 - val_loss: 0.9346 - val_accuracy: 0.7853\n",
      "Epoch 18/40\n",
      "758/758 [==============================] - 0s 285us/sample - loss: 0.9961 - accuracy: 0.7718 - val_loss: 0.9113 - val_accuracy: 0.7853\n",
      "Epoch 19/40\n",
      "758/758 [==============================] - 0s 282us/sample - loss: 0.9568 - accuracy: 0.7718 - val_loss: 0.8689 - val_accuracy: 0.7853\n",
      "Epoch 20/40\n",
      "758/758 [==============================] - 0s 275us/sample - loss: 0.8873 - accuracy: 0.7718 - val_loss: 0.7933 - val_accuracy: 0.7853\n",
      "Epoch 21/40\n",
      "758/758 [==============================] - 0s 278us/sample - loss: 0.9047 - accuracy: 0.7718 - val_loss: 0.9643 - val_accuracy: 0.7853\n",
      "Epoch 22/40\n",
      "758/758 [==============================] - 0s 294us/sample - loss: 1.0311 - accuracy: 0.7718 - val_loss: 0.9485 - val_accuracy: 0.7853\n",
      "Epoch 23/40\n",
      "758/758 [==============================] - 0s 289us/sample - loss: 1.0250 - accuracy: 0.7718 - val_loss: 0.9518 - val_accuracy: 0.7853\n",
      "Epoch 24/40\n",
      "758/758 [==============================] - 0s 287us/sample - loss: 1.0251 - accuracy: 0.7718 - val_loss: 0.9504 - val_accuracy: 0.7853\n",
      "Epoch 25/40\n",
      "758/758 [==============================] - 0s 336us/sample - loss: 1.0201 - accuracy: 0.7718 - val_loss: 0.9430 - val_accuracy: 0.7853\n",
      "Epoch 26/40\n",
      "758/758 [==============================] - 0s 329us/sample - loss: 1.0066 - accuracy: 0.7718 - val_loss: 0.9208 - val_accuracy: 0.7853\n",
      "Epoch 27/40\n",
      "758/758 [==============================] - 0s 432us/sample - loss: 0.9466 - accuracy: 0.7718 - val_loss: 0.8580 - val_accuracy: 0.7853\n",
      "Epoch 28/40\n",
      "758/758 [==============================] - 0s 377us/sample - loss: 0.8134 - accuracy: 0.7810 - val_loss: 0.7767 - val_accuracy: 0.8344\n",
      "Epoch 29/40\n",
      "758/758 [==============================] - 0s 310us/sample - loss: 0.9883 - accuracy: 0.7836 - val_loss: 0.9568 - val_accuracy: 0.7853\n",
      "Epoch 30/40\n",
      "758/758 [==============================] - 0s 288us/sample - loss: 1.0242 - accuracy: 0.7718 - val_loss: 0.9509 - val_accuracy: 0.7853\n",
      "Epoch 31/40\n",
      "758/758 [==============================] - 0s 267us/sample - loss: 1.0188 - accuracy: 0.7718 - val_loss: 0.9504 - val_accuracy: 0.7853\n",
      "Epoch 32/40\n",
      "758/758 [==============================] - 0s 385us/sample - loss: 1.0178 - accuracy: 0.7718 - val_loss: 0.9498 - val_accuracy: 0.7853\n",
      "Epoch 33/40\n",
      "758/758 [==============================] - 0s 400us/sample - loss: 1.0166 - accuracy: 0.7718 - val_loss: 0.9512 - val_accuracy: 0.7853\n",
      "Epoch 34/40\n",
      "758/758 [==============================] - 0s 435us/sample - loss: 1.0162 - accuracy: 0.7718 - val_loss: 0.9507 - val_accuracy: 0.7853\n",
      "Epoch 35/40\n",
      "758/758 [==============================] - 0s 381us/sample - loss: 1.0164 - accuracy: 0.7718 - val_loss: 0.9493 - val_accuracy: 0.7853\n",
      "Epoch 36/40\n",
      "758/758 [==============================] - 0s 409us/sample - loss: 1.0155 - accuracy: 0.7718 - val_loss: 0.9485 - val_accuracy: 0.7853\n",
      "Epoch 37/40\n",
      "758/758 [==============================] - 0s 446us/sample - loss: 1.0130 - accuracy: 0.7718 - val_loss: 0.9558 - val_accuracy: 0.7853\n",
      "Epoch 38/40\n",
      "758/758 [==============================] - 0s 426us/sample - loss: 1.0148 - accuracy: 0.7718 - val_loss: 0.9393 - val_accuracy: 0.7853\n",
      "Epoch 39/40\n",
      "758/758 [==============================] - 0s 340us/sample - loss: 0.9521 - accuracy: 0.7718 - val_loss: 0.8324 - val_accuracy: 0.7853\n",
      "Epoch 40/40\n",
      "758/758 [==============================] - 0s 261us/sample - loss: 0.7970 - accuracy: 0.8153 - val_loss: 0.6922 - val_accuracy: 0.8712\n"
     ]
    }
   ],
   "source": [
    "history1 = model.fit(x_train, y_train, batch_size = batch, validation_split = 0.3, \n",
    "                    epochs = epoch, verbose = verbose)"
   ]
  },
  {
   "cell_type": "code",
   "execution_count": 24,
   "metadata": {},
   "outputs": [
    {
     "name": "stdout",
     "output_type": "stream",
     "text": [
      "272/1 - 0s - loss: 1.0245 - accuracy: 0.8824\n",
      "\n",
      "Test acccuracy: 0.88235295\n"
     ]
    }
   ],
   "source": [
    "test_loss, test_acc = model.evaluate(x_test,  y_test, verbose=2)\n",
    "\n",
    "print('\\nTest acccuracy:', test_acc)"
   ]
  },
  {
   "cell_type": "markdown",
   "metadata": {},
   "source": [
    "- Modificando inicializador "
   ]
  },
  {
   "cell_type": "code",
   "execution_count": 25,
   "metadata": {},
   "outputs": [],
   "source": [
    "def deep_lstm():\n",
    "    model = Sequential()\n",
    "    model.add(Embedding(num_words, emb_dim))\n",
    "    model.add(LSTM(32, return_sequences = True, recurrent_initializer='glorot_uniform'))\n",
    "    model.add(LSTM(32, return_sequences = False, recurrent_initializer='glorot_uniform'))\n",
    "    model.add(Dense(46, activation = 'softmax'))\n",
    "    model.compile(loss='sparse_categorical_crossentropy', optimizer='adam', metrics=['accuracy'])\n",
    "    \n",
    "    return model"
   ]
  },
  {
   "cell_type": "code",
   "execution_count": 26,
   "metadata": {},
   "outputs": [
    {
     "name": "stdout",
     "output_type": "stream",
     "text": [
      "Model: \"sequential_3\"\n",
      "_________________________________________________________________\n",
      "Layer (type)                 Output Shape              Param #   \n",
      "=================================================================\n",
      "embedding_3 (Embedding)      (None, None, 64)          512000    \n",
      "_________________________________________________________________\n",
      "lstm_3 (LSTM)                (None, None, 32)          12416     \n",
      "_________________________________________________________________\n",
      "lstm_4 (LSTM)                (None, 32)                8320      \n",
      "_________________________________________________________________\n",
      "dense_3 (Dense)              (None, 46)                1518      \n",
      "=================================================================\n",
      "Total params: 534,254\n",
      "Trainable params: 534,254\n",
      "Non-trainable params: 0\n",
      "_________________________________________________________________\n"
     ]
    }
   ],
   "source": [
    "model = deep_lstm()\n",
    "model.summary()"
   ]
  },
  {
   "cell_type": "code",
   "execution_count": 27,
   "metadata": {},
   "outputs": [
    {
     "name": "stdout",
     "output_type": "stream",
     "text": [
      "Train on 758 samples, validate on 326 samples\n",
      "Epoch 1/40\n",
      "758/758 [==============================] - 4s 5ms/sample - loss: 3.5942 - accuracy: 0.6478 - val_loss: 2.8785 - val_accuracy: 0.7853\n",
      "Epoch 2/40\n",
      "758/758 [==============================] - 0s 397us/sample - loss: 2.1352 - accuracy: 0.7718 - val_loss: 1.4210 - val_accuracy: 0.7853\n",
      "Epoch 3/40\n",
      "758/758 [==============================] - 0s 412us/sample - loss: 1.2587 - accuracy: 0.7718 - val_loss: 1.0681 - val_accuracy: 0.7853\n",
      "Epoch 4/40\n",
      "758/758 [==============================] - 0s 296us/sample - loss: 1.1126 - accuracy: 0.7718 - val_loss: 1.0074 - val_accuracy: 0.7853\n",
      "Epoch 5/40\n",
      "758/758 [==============================] - 0s 352us/sample - loss: 1.0777 - accuracy: 0.7718 - val_loss: 0.9852 - val_accuracy: 0.7853\n",
      "Epoch 6/40\n",
      "758/758 [==============================] - 0s 364us/sample - loss: 1.0595 - accuracy: 0.7718 - val_loss: 0.9744 - val_accuracy: 0.7853\n",
      "Epoch 7/40\n",
      "758/758 [==============================] - 0s 442us/sample - loss: 1.0511 - accuracy: 0.7718 - val_loss: 0.9676 - val_accuracy: 0.7853\n",
      "Epoch 8/40\n",
      "758/758 [==============================] - 0s 438us/sample - loss: 1.0439 - accuracy: 0.7718 - val_loss: 0.9626 - val_accuracy: 0.7853\n",
      "Epoch 9/40\n",
      "758/758 [==============================] - 0s 451us/sample - loss: 1.0396 - accuracy: 0.7718 - val_loss: 0.9586 - val_accuracy: 0.7853\n",
      "Epoch 10/40\n",
      "758/758 [==============================] - 0s 416us/sample - loss: 1.0362 - accuracy: 0.7718 - val_loss: 0.9573 - val_accuracy: 0.7853\n",
      "Epoch 11/40\n",
      "758/758 [==============================] - 0s 328us/sample - loss: 1.0344 - accuracy: 0.7718 - val_loss: 0.9545 - val_accuracy: 0.7853\n",
      "Epoch 12/40\n",
      "758/758 [==============================] - 0s 261us/sample - loss: 1.0335 - accuracy: 0.7718 - val_loss: 0.9521 - val_accuracy: 0.7853\n",
      "Epoch 13/40\n",
      "758/758 [==============================] - 0s 263us/sample - loss: 1.0302 - accuracy: 0.7718 - val_loss: 0.9510 - val_accuracy: 0.7853\n",
      "Epoch 14/40\n",
      "758/758 [==============================] - 0s 261us/sample - loss: 1.0296 - accuracy: 0.7718 - val_loss: 0.9506 - val_accuracy: 0.7853\n",
      "Epoch 15/40\n",
      "758/758 [==============================] - 0s 271us/sample - loss: 1.0282 - accuracy: 0.7718 - val_loss: 0.9494 - val_accuracy: 0.7853\n",
      "Epoch 16/40\n",
      "758/758 [==============================] - 0s 261us/sample - loss: 1.0273 - accuracy: 0.7718 - val_loss: 0.9495 - val_accuracy: 0.7853\n",
      "Epoch 17/40\n",
      "758/758 [==============================] - 0s 259us/sample - loss: 1.0265 - accuracy: 0.7718 - val_loss: 0.9493 - val_accuracy: 0.7853\n",
      "Epoch 18/40\n",
      "758/758 [==============================] - 0s 261us/sample - loss: 1.0272 - accuracy: 0.7718 - val_loss: 0.9491 - val_accuracy: 0.7853\n",
      "Epoch 19/40\n",
      "758/758 [==============================] - 0s 268us/sample - loss: 1.0248 - accuracy: 0.7718 - val_loss: 0.9504 - val_accuracy: 0.7853\n",
      "Epoch 20/40\n",
      "758/758 [==============================] - 0s 498us/sample - loss: 1.0261 - accuracy: 0.7718 - val_loss: 0.9505 - val_accuracy: 0.7853\n",
      "Epoch 21/40\n",
      "758/758 [==============================] - 0s 396us/sample - loss: 1.0247 - accuracy: 0.7718 - val_loss: 0.9493 - val_accuracy: 0.7853\n",
      "Epoch 22/40\n",
      "758/758 [==============================] - 0s 260us/sample - loss: 1.0237 - accuracy: 0.7718 - val_loss: 0.9483 - val_accuracy: 0.7853\n",
      "Epoch 23/40\n",
      "758/758 [==============================] - 0s 253us/sample - loss: 1.0231 - accuracy: 0.7718 - val_loss: 0.9498 - val_accuracy: 0.7853\n",
      "Epoch 24/40\n",
      "758/758 [==============================] - 0s 258us/sample - loss: 1.0235 - accuracy: 0.7718 - val_loss: 0.9472 - val_accuracy: 0.7853\n",
      "Epoch 25/40\n",
      "758/758 [==============================] - 0s 259us/sample - loss: 1.0217 - accuracy: 0.7718 - val_loss: 0.9457 - val_accuracy: 0.7853\n",
      "Epoch 26/40\n",
      "758/758 [==============================] - 0s 312us/sample - loss: 1.0144 - accuracy: 0.7718 - val_loss: 0.9324 - val_accuracy: 0.7853\n",
      "Epoch 27/40\n",
      "758/758 [==============================] - 0s 269us/sample - loss: 0.9809 - accuracy: 0.7718 - val_loss: 0.8449 - val_accuracy: 0.7853\n",
      "Epoch 28/40\n",
      "758/758 [==============================] - 0s 261us/sample - loss: 0.8520 - accuracy: 0.7770 - val_loss: 0.6952 - val_accuracy: 0.8712\n",
      "Epoch 29/40\n",
      "758/758 [==============================] - 0s 267us/sample - loss: 0.7102 - accuracy: 0.8602 - val_loss: 0.6886 - val_accuracy: 0.8558\n",
      "Epoch 30/40\n",
      "758/758 [==============================] - 0s 292us/sample - loss: 0.6853 - accuracy: 0.8417 - val_loss: 0.7487 - val_accuracy: 0.7822\n",
      "Epoch 31/40\n",
      "758/758 [==============================] - 0s 293us/sample - loss: 0.6408 - accuracy: 0.8562 - val_loss: 0.5989 - val_accuracy: 0.8712\n",
      "Epoch 32/40\n",
      "758/758 [==============================] - 0s 275us/sample - loss: 0.5880 - accuracy: 0.8641 - val_loss: 0.5743 - val_accuracy: 0.8712\n",
      "Epoch 33/40\n",
      "758/758 [==============================] - 0s 390us/sample - loss: 0.5779 - accuracy: 0.8615 - val_loss: 0.5664 - val_accuracy: 0.8742\n",
      "Epoch 34/40\n",
      "758/758 [==============================] - 0s 406us/sample - loss: 0.5824 - accuracy: 0.8654 - val_loss: 0.5780 - val_accuracy: 0.8773\n",
      "Epoch 35/40\n",
      "758/758 [==============================] - 0s 270us/sample - loss: 0.5104 - accuracy: 0.8852 - val_loss: 0.5403 - val_accuracy: 0.8804\n",
      "Epoch 36/40\n",
      "758/758 [==============================] - 0s 308us/sample - loss: 0.4854 - accuracy: 0.8945 - val_loss: 0.5338 - val_accuracy: 0.8804\n",
      "Epoch 37/40\n",
      "758/758 [==============================] - 0s 323us/sample - loss: 0.4664 - accuracy: 0.8945 - val_loss: 0.5229 - val_accuracy: 0.8834\n",
      "Epoch 38/40\n",
      "758/758 [==============================] - 0s 434us/sample - loss: 0.4511 - accuracy: 0.8905 - val_loss: 0.5128 - val_accuracy: 0.8804\n",
      "Epoch 39/40\n",
      "758/758 [==============================] - 0s 414us/sample - loss: 0.4427 - accuracy: 0.8892 - val_loss: 0.5115 - val_accuracy: 0.8865\n",
      "Epoch 40/40\n",
      "758/758 [==============================] - 0s 457us/sample - loss: 0.4296 - accuracy: 0.9037 - val_loss: 0.5023 - val_accuracy: 0.8896\n"
     ]
    }
   ],
   "source": [
    "history2 = model.fit(x_train, y_train, batch_size = batch, validation_split = 0.3, \n",
    "                    epochs = 40, verbose = verbose)"
   ]
  },
  {
   "cell_type": "code",
   "execution_count": 28,
   "metadata": {},
   "outputs": [
    {
     "name": "stdout",
     "output_type": "stream",
     "text": [
      "272/1 - 0s - loss: 0.9204 - accuracy: 0.8934\n",
      "\n",
      "Test acccuracy: 0.8933824\n"
     ]
    }
   ],
   "source": [
    "test_loss, test_acc = model.evaluate(x_test,  y_test, verbose=2)\n",
    "\n",
    "print('\\nTest acccuracy:', test_acc)"
   ]
  },
  {
   "cell_type": "markdown",
   "metadata": {},
   "source": [
    "- Recurrent dropout"
   ]
  },
  {
   "cell_type": "code",
   "execution_count": 29,
   "metadata": {},
   "outputs": [],
   "source": [
    "def deep_lstm():\n",
    "    model = Sequential()\n",
    "    model.add(Embedding(num_words, emb_dim))\n",
    "    model.add(LSTM(32, return_sequences = True, recurrent_initializer='glorot_uniform',\n",
    "                  recurrent_dropout=0.1))\n",
    "    model.add(LSTM(32, return_sequences = False, recurrent_initializer='glorot_uniform',\n",
    "                  recurrent_dropout=0.1))\n",
    "    model.add(Dense(46, activation = 'softmax'))\n",
    "    model.compile(loss='sparse_categorical_crossentropy', optimizer='adam', metrics=['accuracy'])\n",
    "    \n",
    "    return model"
   ]
  },
  {
   "cell_type": "code",
   "execution_count": 30,
   "metadata": {},
   "outputs": [
    {
     "name": "stdout",
     "output_type": "stream",
     "text": [
      "Model: \"sequential_4\"\n",
      "_________________________________________________________________\n",
      "Layer (type)                 Output Shape              Param #   \n",
      "=================================================================\n",
      "embedding_4 (Embedding)      (None, None, 64)          512000    \n",
      "_________________________________________________________________\n",
      "lstm_5 (LSTM)                (None, None, 32)          12416     \n",
      "_________________________________________________________________\n",
      "lstm_6 (LSTM)                (None, 32)                8320      \n",
      "_________________________________________________________________\n",
      "dense_4 (Dense)              (None, 46)                1518      \n",
      "=================================================================\n",
      "Total params: 534,254\n",
      "Trainable params: 534,254\n",
      "Non-trainable params: 0\n",
      "_________________________________________________________________\n"
     ]
    }
   ],
   "source": [
    "model = deep_lstm()\n",
    "model.summary()"
   ]
  },
  {
   "cell_type": "code",
   "execution_count": 31,
   "metadata": {},
   "outputs": [
    {
     "name": "stdout",
     "output_type": "stream",
     "text": [
      "Train on 758 samples, validate on 326 samples\n",
      "Epoch 1/40\n",
      "758/758 [==============================] - 4s 5ms/sample - loss: 3.4562 - accuracy: 0.6939 - val_loss: 2.5126 - val_accuracy: 0.7853\n",
      "Epoch 2/40\n",
      "758/758 [==============================] - 1s 2ms/sample - loss: 1.8847 - accuracy: 0.7718 - val_loss: 1.2952 - val_accuracy: 0.7853\n",
      "Epoch 3/40\n",
      "758/758 [==============================] - 1s 2ms/sample - loss: 1.2168 - accuracy: 0.7718 - val_loss: 1.0422 - val_accuracy: 0.7853\n",
      "Epoch 4/40\n",
      "758/758 [==============================] - 1s 2ms/sample - loss: 1.0976 - accuracy: 0.7718 - val_loss: 0.9919 - val_accuracy: 0.7853\n",
      "Epoch 5/40\n",
      "758/758 [==============================] - 1s 2ms/sample - loss: 1.0700 - accuracy: 0.7718 - val_loss: 0.9736 - val_accuracy: 0.7853\n",
      "Epoch 6/40\n",
      "758/758 [==============================] - 1s 2ms/sample - loss: 1.0546 - accuracy: 0.7718 - val_loss: 0.9614 - val_accuracy: 0.7853\n",
      "Epoch 7/40\n",
      "758/758 [==============================] - 1s 2ms/sample - loss: 1.0440 - accuracy: 0.7718 - val_loss: 0.9477 - val_accuracy: 0.7853\n",
      "Epoch 8/40\n",
      "758/758 [==============================] - 1s 2ms/sample - loss: 1.0232 - accuracy: 0.7718 - val_loss: 0.9209 - val_accuracy: 0.7853\n",
      "Epoch 9/40\n",
      "758/758 [==============================] - 1s 2ms/sample - loss: 0.9878 - accuracy: 0.7718 - val_loss: 0.8731 - val_accuracy: 0.7853\n",
      "Epoch 10/40\n",
      "758/758 [==============================] - 2s 2ms/sample - loss: 0.9038 - accuracy: 0.7718 - val_loss: 0.7943 - val_accuracy: 0.7853\n",
      "Epoch 11/40\n",
      "758/758 [==============================] - 1s 2ms/sample - loss: 0.8087 - accuracy: 0.7731 - val_loss: 0.7317 - val_accuracy: 0.8589\n",
      "Epoch 12/40\n",
      "758/758 [==============================] - 1s 2ms/sample - loss: 0.7716 - accuracy: 0.8232 - val_loss: 0.7312 - val_accuracy: 0.8221\n",
      "Epoch 13/40\n",
      "758/758 [==============================] - 1s 2ms/sample - loss: 0.7254 - accuracy: 0.8245 - val_loss: 0.6856 - val_accuracy: 0.8405\n",
      "Epoch 14/40\n",
      "758/758 [==============================] - 1s 2ms/sample - loss: 0.6757 - accuracy: 0.8509 - val_loss: 0.6272 - val_accuracy: 0.8712\n",
      "Epoch 15/40\n",
      "758/758 [==============================] - 1s 2ms/sample - loss: 0.6354 - accuracy: 0.8654 - val_loss: 0.5970 - val_accuracy: 0.8773\n",
      "Epoch 16/40\n",
      "758/758 [==============================] - 1s 2ms/sample - loss: 0.6219 - accuracy: 0.8602 - val_loss: 0.5973 - val_accuracy: 0.8712\n",
      "Epoch 17/40\n",
      "758/758 [==============================] - 1s 2ms/sample - loss: 0.6038 - accuracy: 0.8628 - val_loss: 0.5905 - val_accuracy: 0.8681\n",
      "Epoch 18/40\n",
      "758/758 [==============================] - 1s 2ms/sample - loss: 0.5822 - accuracy: 0.8615 - val_loss: 0.5921 - val_accuracy: 0.8834\n",
      "Epoch 19/40\n",
      "758/758 [==============================] - 1s 2ms/sample - loss: 0.5577 - accuracy: 0.8694 - val_loss: 0.5607 - val_accuracy: 0.8681\n",
      "Epoch 20/40\n",
      "758/758 [==============================] - 1s 2ms/sample - loss: 0.5408 - accuracy: 0.8668 - val_loss: 0.5510 - val_accuracy: 0.8681\n",
      "Epoch 21/40\n",
      "758/758 [==============================] - 1s 2ms/sample - loss: 0.5221 - accuracy: 0.8668 - val_loss: 0.5341 - val_accuracy: 0.8742\n",
      "Epoch 22/40\n",
      "758/758 [==============================] - 1s 2ms/sample - loss: 0.5132 - accuracy: 0.8654 - val_loss: 0.5465 - val_accuracy: 0.8834\n",
      "Epoch 23/40\n",
      "758/758 [==============================] - 1s 2ms/sample - loss: 0.5049 - accuracy: 0.8707 - val_loss: 0.5285 - val_accuracy: 0.8742\n",
      "Epoch 24/40\n",
      "758/758 [==============================] - 1s 2ms/sample - loss: 0.4926 - accuracy: 0.8707 - val_loss: 0.6192 - val_accuracy: 0.8712\n",
      "Epoch 25/40\n",
      "758/758 [==============================] - 1s 2ms/sample - loss: 0.5031 - accuracy: 0.8654 - val_loss: 0.5423 - val_accuracy: 0.8712\n",
      "Epoch 26/40\n",
      "758/758 [==============================] - 1s 2ms/sample - loss: 0.4874 - accuracy: 0.8799 - val_loss: 0.5416 - val_accuracy: 0.8773\n",
      "Epoch 27/40\n",
      "758/758 [==============================] - 1s 2ms/sample - loss: 0.4686 - accuracy: 0.8694 - val_loss: 0.5225 - val_accuracy: 0.8742\n",
      "Epoch 28/40\n",
      "758/758 [==============================] - 1s 2ms/sample - loss: 0.4507 - accuracy: 0.8918 - val_loss: 0.5184 - val_accuracy: 0.8742\n",
      "Epoch 29/40\n",
      "758/758 [==============================] - 1s 2ms/sample - loss: 0.4365 - accuracy: 0.8865 - val_loss: 0.5041 - val_accuracy: 0.8742\n",
      "Epoch 30/40\n",
      "758/758 [==============================] - 1s 2ms/sample - loss: 0.4259 - accuracy: 0.8945 - val_loss: 0.5276 - val_accuracy: 0.8742\n",
      "Epoch 31/40\n",
      "758/758 [==============================] - 1s 2ms/sample - loss: 0.4198 - accuracy: 0.8918 - val_loss: 0.4934 - val_accuracy: 0.8804\n",
      "Epoch 32/40\n",
      "758/758 [==============================] - 1s 2ms/sample - loss: 0.4244 - accuracy: 0.8918 - val_loss: 0.4769 - val_accuracy: 0.8834\n",
      "Epoch 33/40\n",
      "758/758 [==============================] - 1s 2ms/sample - loss: 0.4049 - accuracy: 0.9011 - val_loss: 0.4995 - val_accuracy: 0.8834\n",
      "Epoch 34/40\n",
      "758/758 [==============================] - 1s 2ms/sample - loss: 0.3981 - accuracy: 0.9024 - val_loss: 0.4995 - val_accuracy: 0.8742\n",
      "Epoch 35/40\n",
      "758/758 [==============================] - 1s 2ms/sample - loss: 0.3874 - accuracy: 0.9050 - val_loss: 0.4800 - val_accuracy: 0.8834\n",
      "Epoch 36/40\n",
      "758/758 [==============================] - 1s 2ms/sample - loss: 0.3764 - accuracy: 0.9169 - val_loss: 0.4762 - val_accuracy: 0.8926\n",
      "Epoch 37/40\n",
      "758/758 [==============================] - 1s 2ms/sample - loss: 0.3711 - accuracy: 0.9116 - val_loss: 0.4764 - val_accuracy: 0.8957\n",
      "Epoch 38/40\n",
      "758/758 [==============================] - 1s 2ms/sample - loss: 0.3615 - accuracy: 0.9129 - val_loss: 0.4686 - val_accuracy: 0.9110\n",
      "Epoch 39/40\n",
      "758/758 [==============================] - 1s 2ms/sample - loss: 0.3595 - accuracy: 0.9195 - val_loss: 0.4786 - val_accuracy: 0.8988\n",
      "Epoch 40/40\n",
      "758/758 [==============================] - 1s 2ms/sample - loss: 0.3559 - accuracy: 0.9182 - val_loss: 0.4818 - val_accuracy: 0.8957\n"
     ]
    }
   ],
   "source": [
    "history3 = model.fit(x_train, y_train, batch_size = batch, validation_split = 0.3, \n",
    "                    epochs = epoch, verbose = verbose)"
   ]
  },
  {
   "cell_type": "code",
   "execution_count": 32,
   "metadata": {},
   "outputs": [
    {
     "name": "stdout",
     "output_type": "stream",
     "text": [
      "272/1 - 0s - loss: 0.9561 - accuracy: 0.9118\n",
      "\n",
      "Test acccuracy: 0.9117647\n"
     ]
    }
   ],
   "source": [
    "test_loss, test_acc = model.evaluate(x_test,  y_test, verbose=2)\n",
    "\n",
    "print('\\nTest acccuracy:', test_acc)"
   ]
  },
  {
   "cell_type": "code",
   "execution_count": 34,
   "metadata": {},
   "outputs": [
    {
     "data": {
      "image/png": "[encoded data removed]",
      "text/plain": [
       "<Figure size 720x648 with 1 Axes>"
      ]
     },
     "metadata": {
      "needs_background": "light"
     },
     "output_type": "display_data"
    }
   ],
   "source": [
    "#plot\n",
    "plt.figure(figsize=(10,9))\n",
    "plt.plot(history1.history['accuracy'])\n",
    "plt.plot(history1.history['val_accuracy'])\n",
    "\n",
    "\n",
    "plt.plot(history2.history['accuracy'])\n",
    "plt.plot(history2.history['val_accuracy'])\n",
    "\n",
    "plt.plot(history3.history['accuracy'])\n",
    "plt.plot(history3.history['val_accuracy'])\n",
    "\n",
    "\n",
    "plt.legend(['Train orthogonal', 'Test orthogonal',\n",
    "            'Train glorot_uniform', 'Test glorot_uniform',\n",
    "            'Train recurrent_dropout/glorot_uniform', 'Test recurrent_dropout/glorot_uniform'])\n",
    "\n",
    "plt.title('accuracy')\n",
    "plt.ylabel('accuracy')\n",
    "plt.xlabel('epoch')\n",
    "\n",
    "plt.show()"
   ]
  },
  {
   "cell_type": "markdown",
   "metadata": {},
   "source": [
    "- Mejorar test accuracy\n",
    "- Investigar que son las GRU e implementarlas\n",
    "- Experimentar con diferente número de capas y neuronas, mejorar los resultados\n",
    "- Experimentar otros inicializadores y diferentes valores de dropout\n",
    "- Probar con otro dataset"
   ]
  }
 ],
 "metadata": {
  "kernelspec": {
   "display_name": "Python 3",
   "language": "python",
   "name": "python3"
  },
  "language_info": {
   "codemirror_mode": {
    "name": "ipython",
    "version": 3
   },
   "file_extension": ".py",
   "mimetype": "text/x-python",
   "name": "python",
   "nbconvert_exporter": "python",
   "pygments_lexer": "ipython3",
   "version": "3.7.5"
  }
 },
 "nbformat": 4,
 "nbformat_minor": 4
}
