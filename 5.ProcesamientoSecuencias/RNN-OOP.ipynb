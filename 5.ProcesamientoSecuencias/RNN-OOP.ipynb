{
 "cells": [
  {
   "cell_type": "markdown",
   "metadata": {},
   "source": [
    "# Red recurrente Imperative/Training loop\n",
    "- Objetivo: Programar una RNN en notación orientada a objetos con Tensorflow 2.0\n",
    "\n",
    "- Referencia Imperative APIs: https://blog.tensorflow.org/2019/01/what-are-symbolic-and-imperative-apis.html\n",
    "\n",
    "Los modelos son más personalizables para tareas como investigación"
   ]
  },
  {
   "cell_type": "code",
   "execution_count": 1,
   "metadata": {},
   "outputs": [],
   "source": [
    "import numpy as np\n",
    "import matplotlib.pyplot as plt\n",
    "\n",
    "import tensorflow as tf\n",
    "from tensorflow.keras.datasets import imdb\n",
    "\n",
    "\n",
    "\n",
    "from tensorflow.keras.preprocessing.sequence import pad_sequences\n",
    "import matplotlib.pyplot as plt"
   ]
  },
  {
   "cell_type": "code",
   "execution_count": 2,
   "metadata": {},
   "outputs": [
    {
     "name": "stdout",
     "output_type": "stream",
     "text": [
      "(25000, 59)\n",
      "(25000, 59)\n",
      "(25000,)\n",
      "(25000,)\n"
     ]
    }
   ],
   "source": [
    "# numero de palabras\n",
    "num_words = 10000\n",
    "\n",
    "max_len = 59\n",
    "embedding_dim = 128\n",
    "\n",
    "(x_train, y_train), (x_test, y_test) = imdb.load_data(num_words=num_words)\n",
    "\n",
    "\n",
    "x_train = pad_sequences(x_train, maxlen=max_len, padding = 'post')\n",
    "x_test = pad_sequences(x_test, maxlen=max_len, padding = 'post')\n",
    "\n",
    "\n",
    "print(x_train.shape)\n",
    "print(x_test.shape)\n",
    "print(y_train.shape)\n",
    "print(y_test.shape)"
   ]
  },
  {
   "cell_type": "code",
   "execution_count": 3,
   "metadata": {},
   "outputs": [],
   "source": [
    "batch_size = 50\n",
    "\n",
    "train_ds = tf.data.Dataset.from_tensor_slices(\n",
    "    (x_train, y_train)).shuffle(10000).batch(batch_size)"
   ]
  },
  {
   "cell_type": "code",
   "execution_count": 4,
   "metadata": {},
   "outputs": [
    {
     "name": "stdout",
     "output_type": "stream",
     "text": [
      "Reseña\n",
      "[  13  104   88    4  381   15  297   98   32 2071   56   26  141    6\n",
      "  194 7486   18    4  226   22   21  134  476   26  480    5  144   30\n",
      " 5535   18   51   36   28  224   92   25  104    4  226   65   16   38\n",
      " 1334   88   12   16  283    5   16 4472  113  103   32   15   16 5345\n",
      "   19  178   32]\n",
      "Etiqueta\n",
      "1\n"
     ]
    }
   ],
   "source": [
    "print('Reseña')\n",
    "print(x_train[0])\n",
    "print('Etiqueta')\n",
    "print(y_train[0])"
   ]
  },
  {
   "cell_type": "code",
   "execution_count": 5,
   "metadata": {},
   "outputs": [
    {
     "name": "stdout",
     "output_type": "stream",
     "text": [
      "Reseña:  ['i', 'think', 'because', 'the', 'stars', 'that', 'play', 'them', 'all', 'grown', 'up', 'are', 'such', 'a', 'big', 'profile', 'for', 'the', 'whole', 'film', 'but', 'these', 'children', 'are', 'amazing', 'and', 'should', 'be', 'praised', 'for', 'what', 'they', 'have', 'done', \"don't\", 'you', 'think', 'the', 'whole', 'story', 'was', 'so', 'lovely', 'because', 'it', 'was', 'true', 'and', 'was', \"someone's\", 'life', 'after', 'all', 'that', 'was', 'shared', 'with', 'us', 'all'] Longitud reseña:  59\n"
     ]
    }
   ],
   "source": [
    "wordDict = {y:x for x,y in imdb.get_word_index().items()}  \n",
    "res = []\n",
    "for index in x_train[0]:\n",
    "    res.append(wordDict.get(index - 3))\n",
    "print('Reseña: ',res,'Longitud reseña: ', len(res))"
   ]
  },
  {
   "cell_type": "markdown",
   "metadata": {},
   "source": [
    "# Crear modelo\n"
   ]
  },
  {
   "cell_type": "code",
   "execution_count": 6,
   "metadata": {},
   "outputs": [],
   "source": [
    "from tensorflow.keras.layers import Embedding, LSTM, Dense\n",
    "from tensorflow.keras import Model"
   ]
  },
  {
   "cell_type": "code",
   "execution_count": 7,
   "metadata": {},
   "outputs": [],
   "source": [
    "class RNN(Model):\n",
    "    def __init__(self):\n",
    "        super(RNN, self).__init__()\n",
    "        self.embedding = Embedding(num_words, embedding_dim)\n",
    "        self.lstm = LSTM(128)\n",
    "        self.d = Dense(1, activation='sigmoid')\n",
    "\n",
    "    def call(self, x): # método call que pasa 'x' por capa\n",
    "        x = self.embedding(x)\n",
    "        x = self.lstm(x)\n",
    "        return self.d(x)\n"
   ]
  },
  {
   "cell_type": "code",
   "execution_count": 8,
   "metadata": {},
   "outputs": [
    {
     "name": "stdout",
     "output_type": "stream",
     "text": [
      "Model: \"rnn\"\n",
      "_________________________________________________________________\n",
      "Layer (type)                 Output Shape              Param #   \n",
      "=================================================================\n",
      "embedding (Embedding)        multiple                  1280000   \n",
      "_________________________________________________________________\n",
      "lstm (LSTM)                  multiple                  131584    \n",
      "_________________________________________________________________\n",
      "dense (Dense)                multiple                  129       \n",
      "=================================================================\n",
      "Total params: 1,411,713\n",
      "Trainable params: 1,411,713\n",
      "Non-trainable params: 0\n",
      "_________________________________________________________________\n"
     ]
    }
   ],
   "source": [
    "model = RNN()\n",
    "model.build( input_shape=(None, max_len))\n",
    "model.summary()"
   ]
  },
  {
   "cell_type": "code",
   "execution_count": 9,
   "metadata": {},
   "outputs": [],
   "source": [
    "loss_fn = tf.keras.losses.BinaryCrossentropy()\n",
    "optimizer = tf.keras.optimizers.Adam()"
   ]
  },
  {
   "cell_type": "code",
   "execution_count": 10,
   "metadata": {},
   "outputs": [],
   "source": [
    "train_loss = tf.keras.metrics.BinaryCrossentropy(name='train_loss')\n",
    "train_accuracy = tf.keras.metrics.BinaryAccuracy(name='train_accuracy')"
   ]
  },
  {
   "cell_type": "code",
   "execution_count": 11,
   "metadata": {},
   "outputs": [],
   "source": [
    "hist_loss = []\n",
    "hist_acc = []"
   ]
  },
  {
   "cell_type": "markdown",
   "metadata": {},
   "source": [
    "# Entrenamiento\n",
    "- Se hace un ciclo por épocas en donde se itera por cada época sobre cada par de datos y etiquetas de entrenamiento\n",
    "\n",
    "- *Nota: El entrenamiento con 'tf.function decorator' tiene un mejor desempeño al compilarse en grafo. Para simplificar el ejemplo, también se omite el entrenamiento en conjunto de prueba*"
   ]
  },
  {
   "cell_type": "code",
   "execution_count": 12,
   "metadata": {},
   "outputs": [
    {
     "name": "stdout",
     "output_type": "stream",
     "text": [
      "Epoch 1/10 \n",
      " - loss: 0.44712960720062256 - accuracy: 0.7866796255111694\n",
      "Epoch 2/10 \n",
      " - loss: 0.2966446876525879 - accuracy: 0.8751993775367737\n",
      "Epoch 3/10 \n",
      " - loss: 0.2211247831583023 - accuracy: 0.9112399220466614\n",
      "Epoch 4/10 \n",
      " - loss: 0.15693973004817963 - accuracy: 0.9388808608055115\n",
      "Epoch 5/10 \n",
      " - loss: 0.10652169585227966 - accuracy: 0.9625210165977478\n",
      "Epoch 6/10 \n",
      " - loss: 0.07776147872209549 - accuracy: 0.9723614454269409\n",
      "Epoch 7/10 \n",
      " - loss: 0.05989265814423561 - accuracy: 0.9799212217330933\n",
      "Epoch 8/10 \n",
      " - loss: 0.04978509992361069 - accuracy: 0.983401894569397\n",
      "Epoch 9/10 \n",
      " - loss: 0.03153662383556366 - accuracy: 0.9897211790084839\n",
      "Epoch 10/10 \n",
      " - loss: 0.02850654534995556 - accuracy: 0.9913609623908997\n"
     ]
    }
   ],
   "source": [
    "EPOCH = 10\n",
    "for epoch in range(EPOCH):\n",
    "    #entrenamiento\n",
    "    for data, target in train_ds:\n",
    "        with tf.GradientTape() as tape:\n",
    "            predictions = model(data)# predicciones\n",
    "            loss = loss_fn(target, predictions) # target y predicciones para obtener acc\n",
    "        gradients = tape.gradient(loss, model.trainable_variables) # gradiente sobre variables entrenables\n",
    "        optimizer.apply_gradients(zip(gradients, model.trainable_variables))\n",
    "        # se guardan metricas\n",
    "        train_loss(target, predictions)\n",
    "        train_accuracy(target, predictions)\n",
    "    \n",
    "\n",
    "    template = 'Epoch {}/{} \\n - loss: {} - accuracy: {}'\n",
    "    print(template.format(epoch+1, EPOCH,\n",
    "                        train_loss.result(), train_accuracy.result()))\n",
    "    # lista para plot\n",
    "    hist_loss.append(train_loss.result())\n",
    "    hist_acc.append(train_accuracy.result())\n",
    "    # reinicia las metricas para la siguiente epoca\n",
    "    train_loss.reset_states()\n",
    "    train_accuracy.reset_states()"
   ]
  },
  {
   "cell_type": "code",
   "execution_count": 13,
   "metadata": {},
   "outputs": [
    {
     "data": {
      "image/png": "[encoded data removed]",
      "text/plain": [
       "<Figure size 720x648 with 1 Axes>"
      ]
     },
     "metadata": {
      "needs_background": "light"
     },
     "output_type": "display_data"
    }
   ],
   "source": [
    "plt.figure(figsize=(10,9))\n",
    "plt.plot(np.arange(len(hist_acc)), hist_acc)\n",
    "plt.title('Train accuracy')\n",
    "plt.legend(['accuracy'])\n",
    "plt.grid()"
   ]
  },
  {
   "cell_type": "code",
   "execution_count": 14,
   "metadata": {},
   "outputs": [
    {
     "data": {
      "image/png": "[encoded data removed]",
      "text/plain": [
       "<Figure size 720x648 with 1 Axes>"
      ]
     },
     "metadata": {
      "needs_background": "light"
     },
     "output_type": "display_data"
    }
   ],
   "source": [
    "plt.figure(figsize=(10,9))\n",
    "plt.plot(np.arange(len(hist_loss)), hist_loss)\n",
    "plt.title('Train loss')\n",
    "plt.legend(['loss'])\n",
    "plt.grid()"
   ]
  },
  {
   "cell_type": "markdown",
   "metadata": {},
   "source": [
    "- Personalizar la arquitectura\n",
    "- Agregar conjunto de validación\n",
    "- Mejorar el modelo"
   ]
  }
 ],
 "metadata": {
  "kernelspec": {
   "display_name": "Python 3",
   "language": "python",
   "name": "python3"
  },
  "language_info": {
   "codemirror_mode": {
    "name": "ipython",
    "version": 3
   },
   "file_extension": ".py",
   "mimetype": "text/x-python",
   "name": "python",
   "nbconvert_exporter": "python",
   "pygments_lexer": "ipython3",
   "version": "3.7.7"
  }
 },
 "nbformat": 4,
 "nbformat_minor": 4
}
