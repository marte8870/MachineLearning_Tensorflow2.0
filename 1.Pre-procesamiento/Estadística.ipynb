{
 "cells": [
  {
   "cell_type": "markdown",
   "metadata": {},
   "source": [
    "# Revisión de Probabilidad\n",
    "\n",
    "Objetivo: Conocer las herramientas de numpy para estadística."
   ]
  },
  {
   "cell_type": "code",
   "execution_count": 2,
   "metadata": {},
   "outputs": [
    {
     "data": {
      "text/plain": [
       "array([[0.46388743, 0.77432407, 0.45674028, 0.02040987, 0.39911621]])"
      ]
     },
     "execution_count": 2,
     "metadata": {},
     "output_type": "execute_result"
    }
   ],
   "source": [
    "import numpy as np\n",
    "x=np.random.rand(1,5)\n",
    "x"
   ]
  },
  {
   "cell_type": "code",
   "execution_count": 3,
   "metadata": {},
   "outputs": [
    {
     "data": {
      "text/plain": [
       "[4, -2, -1, 3, 0]"
      ]
     },
     "execution_count": 3,
     "metadata": {},
     "output_type": "execute_result"
    }
   ],
   "source": [
    "import random\n",
    "y=random.sample(range(-5, 5), 5)\n",
    "y"
   ]
  },
  {
   "cell_type": "code",
   "execution_count": 15,
   "metadata": {},
   "outputs": [
    {
     "data": {
      "image/png": "[encoded data removed]",
      "text/plain": [
       "<Figure size 432x288 with 1 Axes>"
      ]
     },
     "metadata": {
      "needs_background": "light"
     },
     "output_type": "display_data"
    }
   ],
   "source": [
    "import matplotlib.pyplot as plt\n",
    "\n",
    "c=np.random.uniform(-5, 5, 50000)\n",
    "\n",
    "fig = plt.figure()\n",
    "ax = fig.add_subplot(1, 1, 1)\n",
    "\n",
    "\n",
    "plt.plot(c, \"-\") \n",
    "plt.show()"
   ]
  },
  {
   "cell_type": "markdown",
   "metadata": {},
   "source": [
    "## Distribución normal"
   ]
  },
  {
   "cell_type": "code",
   "execution_count": 5,
   "metadata": {},
   "outputs": [
    {
     "data": {
      "image/png": "[encoded data removed]",
      "text/plain": [
       "<Figure size 432x288 with 1 Axes>"
      ]
     },
     "metadata": {
      "needs_background": "light"
     },
     "output_type": "display_data"
    }
   ],
   "source": [
    "mu, sigma = 15, 8 # media y desviación estandar\n",
    "s = np.random.normal(mu, sigma, 50000)\n",
    "plt.hist(s, bins=50)\n",
    "plt.grid()\n",
    "plt.show()"
   ]
  },
  {
   "cell_type": "markdown",
   "metadata": {},
   "source": [
    "## Graficar $z$ con 200 mil muestras histograma de 100 barras\n",
    "$$z = x + y$$\n",
    "\n",
    "$$N(15,8) N(0,1)  $$"
   ]
  },
  {
   "cell_type": "code",
   "execution_count": 6,
   "metadata": {},
   "outputs": [
    {
     "data": {
      "image/png": "[encoded data removed]",
      "text/plain": [
       "<Figure size 432x288 with 1 Axes>"
      ]
     },
     "metadata": {
      "needs_background": "light"
     },
     "output_type": "display_data"
    }
   ],
   "source": [
    "mu, sigma = 15, 8 \n",
    "x = np.random.normal(mu, sigma, 200000)\n",
    "\n",
    "mu, sigma = 0, 1 \n",
    "y = np.random.normal(mu, sigma, 200000)\n",
    "\n",
    "z = x+y\n",
    "plt.hist(z, bins=100)\n",
    "plt.grid()\n",
    "plt.show()"
   ]
  },
  {
   "cell_type": "markdown",
   "metadata": {},
   "source": [
    "## Graficar $z$ con 200 mil muestras histograma de 100 barras\n",
    "$$z = xy$$\n",
    "\n",
    "$$N(0,2)  N(10,6)$$"
   ]
  },
  {
   "cell_type": "code",
   "execution_count": 7,
   "metadata": {},
   "outputs": [
    {
     "data": {
      "image/png": "[encoded data removed]",
      "text/plain": [
       "<Figure size 432x288 with 1 Axes>"
      ]
     },
     "metadata": {
      "needs_background": "light"
     },
     "output_type": "display_data"
    }
   ],
   "source": [
    "mu, sigma = 0, 2 \n",
    "x = np.random.normal(mu, sigma, 200000)\n",
    "\n",
    "mu, sigma = 10, 6 \n",
    "y = np.random.normal(mu, sigma, 200000)\n",
    "\n",
    "z = x*y\n",
    "plt.hist(z, bins=100)\n",
    "plt.grid()\n",
    "plt.show()"
   ]
  },
  {
   "cell_type": "markdown",
   "metadata": {},
   "source": [
    "## Visualizar distribución con pandas"
   ]
  },
  {
   "cell_type": "code",
   "execution_count": 8,
   "metadata": {},
   "outputs": [
    {
     "data": {
      "text/html": [
       "<div>\n",
       "<style scoped>\n",
       "    .dataframe tbody tr th:only-of-type {\n",
       "        vertical-align: middle;\n",
       "    }\n",
       "\n",
       "    .dataframe tbody tr th {\n",
       "        vertical-align: top;\n",
       "    }\n",
       "\n",
       "    .dataframe thead th {\n",
       "        text-align: right;\n",
       "    }\n",
       "</style>\n",
       "<table border=\"1\" class=\"dataframe\">\n",
       "  <thead>\n",
       "    <tr style=\"text-align: right;\">\n",
       "      <th></th>\n",
       "      <th>x1</th>\n",
       "      <th>x2</th>\n",
       "      <th>x3</th>\n",
       "      <th>x4</th>\n",
       "    </tr>\n",
       "  </thead>\n",
       "  <tbody>\n",
       "    <tr>\n",
       "      <th>9990</th>\n",
       "      <td>1.404036</td>\n",
       "      <td>-0.342709</td>\n",
       "      <td>0.112155</td>\n",
       "      <td>0.236394</td>\n",
       "    </tr>\n",
       "    <tr>\n",
       "      <th>9991</th>\n",
       "      <td>1.274652</td>\n",
       "      <td>-0.940055</td>\n",
       "      <td>-0.359976</td>\n",
       "      <td>-0.667419</td>\n",
       "    </tr>\n",
       "    <tr>\n",
       "      <th>9992</th>\n",
       "      <td>0.377774</td>\n",
       "      <td>0.248808</td>\n",
       "      <td>-0.119469</td>\n",
       "      <td>0.092184</td>\n",
       "    </tr>\n",
       "    <tr>\n",
       "      <th>9993</th>\n",
       "      <td>-0.372053</td>\n",
       "      <td>0.475924</td>\n",
       "      <td>-0.832724</td>\n",
       "      <td>-0.251068</td>\n",
       "    </tr>\n",
       "    <tr>\n",
       "      <th>9994</th>\n",
       "      <td>-0.395664</td>\n",
       "      <td>0.276921</td>\n",
       "      <td>-1.052459</td>\n",
       "      <td>0.821314</td>\n",
       "    </tr>\n",
       "    <tr>\n",
       "      <th>9995</th>\n",
       "      <td>-0.720800</td>\n",
       "      <td>0.695106</td>\n",
       "      <td>-0.562427</td>\n",
       "      <td>-0.585590</td>\n",
       "    </tr>\n",
       "    <tr>\n",
       "      <th>9996</th>\n",
       "      <td>-0.519405</td>\n",
       "      <td>0.625394</td>\n",
       "      <td>-1.231131</td>\n",
       "      <td>2.362969</td>\n",
       "    </tr>\n",
       "    <tr>\n",
       "      <th>9997</th>\n",
       "      <td>-1.363070</td>\n",
       "      <td>1.809466</td>\n",
       "      <td>-0.580014</td>\n",
       "      <td>0.869753</td>\n",
       "    </tr>\n",
       "    <tr>\n",
       "      <th>9998</th>\n",
       "      <td>-0.580251</td>\n",
       "      <td>-0.989288</td>\n",
       "      <td>-1.454165</td>\n",
       "      <td>-0.969680</td>\n",
       "    </tr>\n",
       "    <tr>\n",
       "      <th>9999</th>\n",
       "      <td>0.693807</td>\n",
       "      <td>0.291143</td>\n",
       "      <td>-0.144448</td>\n",
       "      <td>0.268554</td>\n",
       "    </tr>\n",
       "  </tbody>\n",
       "</table>\n",
       "</div>"
      ],
      "text/plain": [
       "            x1        x2        x3        x4\n",
       "9990  1.404036 -0.342709  0.112155  0.236394\n",
       "9991  1.274652 -0.940055 -0.359976 -0.667419\n",
       "9992  0.377774  0.248808 -0.119469  0.092184\n",
       "9993 -0.372053  0.475924 -0.832724 -0.251068\n",
       "9994 -0.395664  0.276921 -1.052459  0.821314\n",
       "9995 -0.720800  0.695106 -0.562427 -0.585590\n",
       "9996 -0.519405  0.625394 -1.231131  2.362969\n",
       "9997 -1.363070  1.809466 -0.580014  0.869753\n",
       "9998 -0.580251 -0.989288 -1.454165 -0.969680\n",
       "9999  0.693807  0.291143 -0.144448  0.268554"
      ]
     },
     "execution_count": 8,
     "metadata": {},
     "output_type": "execute_result"
    }
   ],
   "source": [
    "mu, sigma = 0, 1 \n",
    "s = np.random.normal(mu, sigma, (10000,4))\n",
    "\n",
    "import pandas as pd\n",
    "pd.DataFrame(s, columns = ['x1', 'x2', 'x3', 'x4']).tail(10)"
   ]
  },
  {
   "cell_type": "markdown",
   "metadata": {},
   "source": [
    "## Media"
   ]
  },
  {
   "cell_type": "code",
   "execution_count": 9,
   "metadata": {},
   "outputs": [
    {
     "data": {
      "text/plain": [
       "array([ 0.01315903, -0.0216138 , -0.00331784, -0.00494405])"
      ]
     },
     "execution_count": 9,
     "metadata": {},
     "output_type": "execute_result"
    }
   ],
   "source": [
    "m = np.mean(s, axis=0)\n",
    "m"
   ]
  },
  {
   "cell_type": "markdown",
   "metadata": {},
   "source": [
    "## Desviación estándar"
   ]
  },
  {
   "cell_type": "code",
   "execution_count": 10,
   "metadata": {},
   "outputs": [
    {
     "data": {
      "text/plain": [
       "array([0.99460876, 1.00427593, 0.9849591 , 0.99220684])"
      ]
     },
     "execution_count": 10,
     "metadata": {},
     "output_type": "execute_result"
    }
   ],
   "source": [
    "d = np.std(s, axis=0)\n",
    "d"
   ]
  },
  {
   "cell_type": "markdown",
   "metadata": {},
   "source": [
    "## Covarianza de las dos primeras columnas"
   ]
  },
  {
   "cell_type": "code",
   "execution_count": 11,
   "metadata": {},
   "outputs": [
    {
     "data": {
      "text/plain": [
       "array([[ 0.98934551, -0.01182995],\n",
       "       [-0.01182995,  1.00867101]])"
      ]
     },
     "execution_count": 11,
     "metadata": {},
     "output_type": "execute_result"
    }
   ],
   "source": [
    "C = np.cov(s[:,0],s[:,1]) \n",
    "C"
   ]
  },
  {
   "cell_type": "markdown",
   "metadata": {},
   "source": [
    "## Coeficientes de correlación en las dos primeras columnas"
   ]
  },
  {
   "cell_type": "code",
   "execution_count": 12,
   "metadata": {},
   "outputs": [
    {
     "data": {
      "text/plain": [
       "array([[ 1.        , -0.01184225],\n",
       "       [-0.01184225,  1.        ]])"
      ]
     },
     "execution_count": 12,
     "metadata": {},
     "output_type": "execute_result"
    }
   ],
   "source": [
    "Co = np.corrcoef(s[:,0],s[:,1])\n",
    "Co"
   ]
  },
  {
   "cell_type": "markdown",
   "metadata": {},
   "source": [
    "## Arreglo con diferentes distribuciones"
   ]
  },
  {
   "cell_type": "code",
   "execution_count": 13,
   "metadata": {},
   "outputs": [],
   "source": [
    "x1 = np.random.normal(0, 1, 10000)\n",
    "x2 = np.random.uniform(0, 1, 10000)\n",
    "x3 = np.random.normal(3, 7, 10000)\n",
    "x4 = np.random.uniform(-2, 2, 10000)"
   ]
  },
  {
   "cell_type": "code",
   "execution_count": 14,
   "metadata": {},
   "outputs": [
    {
     "data": {
      "text/plain": [
       "array([[ 0.93239899,  0.41368919, 10.47231283,  0.42478918],\n",
       "       [-1.57225651,  0.74483976,  1.25492919,  0.95844686],\n",
       "       [ 0.07700187,  0.29732282, -0.54796522,  0.26998348],\n",
       "       ...,\n",
       "       [-0.42297886,  0.81414131, -1.31178767,  1.58362114],\n",
       "       [ 0.9215658 ,  0.23208305, -1.63295614, -1.37348695],\n",
       "       [-0.5108318 ,  0.81705609, -8.9710347 , -1.94914177]])"
      ]
     },
     "execution_count": 14,
     "metadata": {},
     "output_type": "execute_result"
    }
   ],
   "source": [
    "a = np.array([x1, x2, x3, x4])\n",
    "a.T # Transponiendo"
   ]
  }
 ],
 "metadata": {
  "kernelspec": {
   "display_name": "Python 3",
   "language": "python",
   "name": "python3"
  },
  "language_info": {
   "codemirror_mode": {
    "name": "ipython",
    "version": 3
   },
   "file_extension": ".py",
   "mimetype": "text/x-python",
   "name": "python",
   "nbconvert_exporter": "python",
   "pygments_lexer": "ipython3",
   "version": "3.7.5"
  }
 },
 "nbformat": 4,
 "nbformat_minor": 4
}
