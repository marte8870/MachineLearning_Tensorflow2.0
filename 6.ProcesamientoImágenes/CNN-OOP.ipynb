{
 "cells": [
  {
   "cell_type": "markdown",
   "metadata": {},
   "source": [
    "# Red convolucional Imperative/Training loop\n",
    "- Objetivo: Programar una CNN en notación orientada a objetos con Tensorflow 2\n",
    "\n",
    "- Referencia Imperative APIs: https://blog.tensorflow.org/2019/01/what-are-symbolic-and-imperative-apis.html\n",
    "\n",
    "Los modelos son más personalizables para tareas como investigación"
   ]
  },
  {
   "cell_type": "code",
   "execution_count": 1,
   "metadata": {},
   "outputs": [],
   "source": [
    "import numpy as np\n",
    "import matplotlib.pyplot as plt\n",
    "\n",
    "import tensorflow as tf\n",
    "from tensorflow import keras\n",
    "\n",
    "\n",
    "\n",
    "fashion_mnist = keras.datasets.fashion_mnist\n",
    "\n",
    "(x_train, y_train), (x_test, y_test) = fashion_mnist.load_data()\n"
   ]
  },
  {
   "cell_type": "code",
   "execution_count": 2,
   "metadata": {},
   "outputs": [],
   "source": [
    "class_names = ['T-shirt/top', 'Trouser', 'Pullover', 'Dress',\n",
    "                   'Coat', 'Sandal', 'Shirt', 'Sneaker', 'Bag', 'Ankle boot']\n"
   ]
  },
  {
   "cell_type": "code",
   "execution_count": 3,
   "metadata": {},
   "outputs": [
    {
     "data": {
      "image/png": "[encoded data removed]",
      "text/plain": [
       "<Figure size 432x288 with 5 Axes>"
      ]
     },
     "metadata": {},
     "output_type": "display_data"
    }
   ],
   "source": [
    "for i in range(5):\n",
    "    rand_image_idx = np.random.randint(0, y_train.shape[0])\n",
    "    plt.subplot(1, 5, i+1)\n",
    "    plt.xticks([])\n",
    "    plt.yticks([])\n",
    "    plt.grid('off')\n",
    "    plt.imshow(x_train[rand_image_idx])\n",
    "    plt.xlabel(class_names[y_train[rand_image_idx]])\n",
    "plt.show()"
   ]
  },
  {
   "cell_type": "code",
   "execution_count": 4,
   "metadata": {},
   "outputs": [],
   "source": [
    "# escalar entre 0 y 1\n",
    "x_train = x_train.reshape(x_train.shape[0], 28, 28, 1).astype('float32') / 255\n",
    "x_test = x_test.reshape(x_test.shape[0], 28, 28, 1).astype('float32') / 255\n"
   ]
  },
  {
   "cell_type": "code",
   "execution_count": 5,
   "metadata": {},
   "outputs": [
    {
     "name": "stdout",
     "output_type": "stream",
     "text": [
      "(60000, 28, 28, 1)\n",
      "(10000, 28, 28, 1)\n"
     ]
    }
   ],
   "source": [
    "print(x_train.shape) # (60000, 28, 28, 1)\n",
    "print(x_test.shape)  # (10000, 28, 28, 1)"
   ]
  },
  {
   "cell_type": "code",
   "execution_count": 6,
   "metadata": {},
   "outputs": [],
   "source": [
    "batch_size = 50\n",
    "\n",
    "train_ds = tf.data.Dataset.from_tensor_slices(\n",
    "    (x_train, y_train)).shuffle(10000).batch(batch_size)"
   ]
  },
  {
   "cell_type": "code",
   "execution_count": 7,
   "metadata": {},
   "outputs": [],
   "source": [
    "from tensorflow.keras.layers import Dense, Flatten, Conv2D, MaxPooling2D\n",
    "from tensorflow.keras import Model"
   ]
  },
  {
   "cell_type": "markdown",
   "metadata": {},
   "source": [
    "# Crear modelo\n",
    "- Se tienen que asignar las funciones de activación como 'softmax' en la salida para 'SparseCategoricalCrossentropy'"
   ]
  },
  {
   "cell_type": "code",
   "execution_count": 8,
   "metadata": {},
   "outputs": [],
   "source": [
    "class CNN(Model):\n",
    "    def __init__(self):\n",
    "        super(CNN, self).__init__()\n",
    "        self.conv = Conv2D(30, 3, activation='relu', name='conv')\n",
    "        self.pool = MaxPooling2D(2, name='pool')\n",
    "        self.f = Flatten(name='flatten')\n",
    "        self.d = Dense(10, activation='softmax', name='dense')\n",
    "\n",
    "    def call(self, x): # método call que pasa 'x' por capa\n",
    "        x = self.conv(x)\n",
    "        x = self.pool(x)\n",
    "        x = self.f(x)\n",
    "        return self.d(x)\n"
   ]
  },
  {
   "cell_type": "code",
   "execution_count": 9,
   "metadata": {},
   "outputs": [
    {
     "name": "stdout",
     "output_type": "stream",
     "text": [
      "Model: \"cnn\"\n",
      "_________________________________________________________________\n",
      "Layer (type)                 Output Shape              Param #   \n",
      "=================================================================\n",
      "conv (Conv2D)                multiple                  300       \n",
      "_________________________________________________________________\n",
      "pool (MaxPooling2D)          multiple                  0         \n",
      "_________________________________________________________________\n",
      "flatten (Flatten)            multiple                  0         \n",
      "_________________________________________________________________\n",
      "dense (Dense)                multiple                  50710     \n",
      "=================================================================\n",
      "Total params: 51,010\n",
      "Trainable params: 51,010\n",
      "Non-trainable params: 0\n",
      "_________________________________________________________________\n"
     ]
    }
   ],
   "source": [
    "model = CNN()\n",
    "model.build( input_shape=(None, 28, 28, 1))\n",
    "model.summary()"
   ]
  },
  {
   "cell_type": "markdown",
   "metadata": {},
   "source": [
    "- Optimizador y función de costo"
   ]
  },
  {
   "cell_type": "code",
   "execution_count": 10,
   "metadata": {},
   "outputs": [],
   "source": [
    "loss_fn = tf.keras.losses.SparseCategoricalCrossentropy()\n",
    "optimizer = tf.keras.optimizers.Adam()"
   ]
  },
  {
   "cell_type": "markdown",
   "metadata": {},
   "source": [
    "- Métricas"
   ]
  },
  {
   "cell_type": "code",
   "execution_count": 11,
   "metadata": {},
   "outputs": [],
   "source": [
    "train_loss = tf.keras.metrics.SparseCategoricalCrossentropy(name='train_loss')\n",
    "train_accuracy = tf.keras.metrics.SparseCategoricalAccuracy(name='train_accuracy')"
   ]
  },
  {
   "cell_type": "markdown",
   "metadata": {},
   "source": [
    "- Listas para plot"
   ]
  },
  {
   "cell_type": "code",
   "execution_count": 12,
   "metadata": {},
   "outputs": [],
   "source": [
    "hist_loss = []\n",
    "hist_acc = []"
   ]
  },
  {
   "cell_type": "markdown",
   "metadata": {},
   "source": [
    "## Entrenamiento\n",
    "- Se hace un ciclo por épocas en donde se itera por cada época sobre cada par de datos y etiquetas de entrenamiento\n",
    "\n",
    "- *Nota: El entrenamiento con 'tf.function decorator' tiene un mejor desempeño al compilarse en grafo. Para simplificar el ejemplo, también se omite el entrenamiento en conjunto de prueba*"
   ]
  },
  {
   "cell_type": "code",
   "execution_count": 13,
   "metadata": {},
   "outputs": [
    {
     "name": "stdout",
     "output_type": "stream",
     "text": [
      "Epoch 1/20 \n",
      " - loss: 0.4680822789669037 - accuracy: 0.8371999859809875\n",
      "Epoch 2/20 \n",
      " - loss: 0.32173648476600647 - accuracy: 0.887066662311554\n",
      "Epoch 3/20 \n",
      " - loss: 0.28852158784866333 - accuracy: 0.8992833495140076\n",
      "Epoch 4/20 \n",
      " - loss: 0.26711592078208923 - accuracy: 0.9056000113487244\n",
      "Epoch 5/20 \n",
      " - loss: 0.25134652853012085 - accuracy: 0.9107666611671448\n",
      "Epoch 6/20 \n",
      " - loss: 0.23804430663585663 - accuracy: 0.9157999753952026\n",
      "Epoch 7/20 \n",
      " - loss: 0.22623147070407867 - accuracy: 0.9202166795730591\n",
      "Epoch 8/20 \n",
      " - loss: 0.21565188467502594 - accuracy: 0.9245166778564453\n",
      "Epoch 9/20 \n",
      " - loss: 0.2054499387741089 - accuracy: 0.9273499846458435\n",
      "Epoch 10/20 \n",
      " - loss: 0.1977359801530838 - accuracy: 0.9306333065032959\n",
      "Epoch 11/20 \n",
      " - loss: 0.18901444971561432 - accuracy: 0.9334333539009094\n",
      "Epoch 12/20 \n",
      " - loss: 0.18020057678222656 - accuracy: 0.9372166395187378\n",
      "Epoch 13/20 \n",
      " - loss: 0.17478816211223602 - accuracy: 0.9377833604812622\n",
      "Epoch 14/20 \n",
      " - loss: 0.16748106479644775 - accuracy: 0.9415500164031982\n",
      "Epoch 15/20 \n",
      " - loss: 0.16133031249046326 - accuracy: 0.9436666369438171\n",
      "Epoch 16/20 \n",
      " - loss: 0.15665766596794128 - accuracy: 0.9449999928474426\n",
      "Epoch 17/20 \n",
      " - loss: 0.1508084088563919 - accuracy: 0.9468833208084106\n",
      "Epoch 18/20 \n",
      " - loss: 0.14629878103733063 - accuracy: 0.9487333297729492\n",
      "Epoch 19/20 \n",
      " - loss: 0.1430559605360031 - accuracy: 0.9493666887283325\n",
      "Epoch 20/20 \n",
      " - loss: 0.13802675902843475 - accuracy: 0.952049970626831\n"
     ]
    }
   ],
   "source": [
    "EPOCH = 20\n",
    "for epoch in range(EPOCH):\n",
    "    #entrenamiento\n",
    "    for data, target in train_ds:\n",
    "        with tf.GradientTape() as tape:\n",
    "            predictions = model(data)# predicciones\n",
    "            loss = loss_fn(target, predictions) # target y predicciones para obtener acc\n",
    "        gradients = tape.gradient(loss, model.trainable_variables) # gradiente sobre variables entrenables\n",
    "        optimizer.apply_gradients(zip(gradients, model.trainable_variables))\n",
    "        # se guardan metricas\n",
    "        train_loss(target, predictions)\n",
    "        train_accuracy(target, predictions)\n",
    "    \n",
    "\n",
    "    template = 'Epoch {}/{} \\n - loss: {} - accuracy: {}'\n",
    "    print(template.format(epoch+1, EPOCH,\n",
    "                        train_loss.result(), train_accuracy.result()))\n",
    "    # lista para plot\n",
    "    hist_loss.append(train_loss.result())\n",
    "    hist_acc.append(train_accuracy.result())\n",
    "    # reinicia las metricas para la siguiente epoca\n",
    "    train_loss.reset_states()\n",
    "    train_accuracy.reset_states()"
   ]
  },
  {
   "cell_type": "code",
   "execution_count": 14,
   "metadata": {},
   "outputs": [
    {
     "data": {
      "image/png": "[encoded data removed]",
      "text/plain": [
       "<Figure size 720x648 with 1 Axes>"
      ]
     },
     "metadata": {
      "needs_background": "light"
     },
     "output_type": "display_data"
    }
   ],
   "source": [
    "plt.figure(figsize=(10,9))\n",
    "plt.plot(np.arange(len(hist_acc)), hist_acc)\n",
    "plt.title('Train accuracy')\n",
    "plt.legend(['accuracy'])\n",
    "plt.grid()"
   ]
  },
  {
   "cell_type": "code",
   "execution_count": 15,
   "metadata": {},
   "outputs": [
    {
     "data": {
      "image/png": "[encoded data removed]",
      "text/plain": [
       "<Figure size 720x648 with 1 Axes>"
      ]
     },
     "metadata": {
      "needs_background": "light"
     },
     "output_type": "display_data"
    }
   ],
   "source": [
    "plt.figure(figsize=(10,9))\n",
    "plt.plot(np.arange(len(hist_loss)), hist_loss)\n",
    "plt.title('Train loss')\n",
    "plt.legend(['loss'])\n",
    "plt.grid()"
   ]
  },
  {
   "cell_type": "markdown",
   "metadata": {},
   "source": [
    "- Agregar conjunto de validación\n",
    "- Mejorar la arquitectura\n",
    "- Personalizar modelo\n",
    "- Probar con otro dataset"
   ]
  }
 ],
 "metadata": {
  "kernelspec": {
   "display_name": "Python 3",
   "language": "python",
   "name": "python3"
  },
  "language_info": {
   "codemirror_mode": {
    "name": "ipython",
    "version": 3
   },
   "file_extension": ".py",
   "mimetype": "text/x-python",
   "name": "python",
   "nbconvert_exporter": "python",
   "pygments_lexer": "ipython3",
   "version": "3.7.7"
  }
 },
 "nbformat": 4,
 "nbformat_minor": 4
}
