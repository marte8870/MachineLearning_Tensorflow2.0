{
 "cells": [
  {
   "cell_type": "markdown",
   "metadata": {},
   "source": [
    "# Redes Neuronales Convolucionales (CNN)\n",
    "\n",
    "- Obetivo: Conocer el tipo de capas de las CNN.\n",
    "\n",
    "- Las redes convolucionales no solo se aplican a imágenes, también se pueden aplicar a caracteres o datos en el tiempo.\n",
    "\n",
    "## Convolución\n",
    "\n",
    "- La convolución es una operación matemática generalmente denotada como $*$, en la que una función se aplica otra función, dando como resultado la combinación de las dos funciones."
   ]
  },
  {
   "cell_type": "markdown",
   "metadata": {},
   "source": [
    "## Clasificar ropa"
   ]
  },
  {
   "cell_type": "code",
   "execution_count": 1,
   "metadata": {},
   "outputs": [],
   "source": [
    "import numpy as np\n",
    "import matplotlib.pyplot as plt\n",
    "\n",
    "import tensorflow as tf\n",
    "from tensorflow import keras\n",
    "from tensorflow.keras import backend as K\n",
    "K.clear_session()\n",
    "\n",
    "fashion_mnist = keras.datasets.fashion_mnist\n",
    "\n",
    "(x_train, y_train), (x_test, y_test) = fashion_mnist.load_data()\n",
    "\n"
   ]
  },
  {
   "cell_type": "code",
   "execution_count": 2,
   "metadata": {},
   "outputs": [],
   "source": [
    "class_names = ['T-shirt/top', 'Trouser', 'Pullover', 'Dress',\n",
    "                   'Coat', 'Sandal', 'Shirt', 'Sneaker', 'Bag', 'Ankle boot']\n"
   ]
  },
  {
   "cell_type": "code",
   "execution_count": 3,
   "metadata": {},
   "outputs": [
    {
     "data": {
      "image/png": "[encoded data removed]",
      "text/plain": [
       "<Figure size 432x288 with 5 Axes>"
      ]
     },
     "metadata": {},
     "output_type": "display_data"
    }
   ],
   "source": [
    "for i in range(5):\n",
    "    rand_image_idx = np.random.randint(0, y_train.shape[0])\n",
    "    plt.subplot(1, 5, i+1)\n",
    "    plt.xticks([])\n",
    "    plt.yticks([])\n",
    "    plt.grid('off')\n",
    "    plt.imshow(x_train[rand_image_idx])\n",
    "    plt.xlabel(class_names[y_train[rand_image_idx]])\n",
    "plt.show()"
   ]
  },
  {
   "cell_type": "code",
   "execution_count": 4,
   "metadata": {},
   "outputs": [
    {
     "name": "stdout",
     "output_type": "stream",
     "text": [
      "(60000, 28, 28, 1)\n",
      "(10000, 28, 28, 1)\n"
     ]
    }
   ],
   "source": [
    "# escalar entre 0 y 1\n",
    "x_train = x_train.reshape(x_train.shape[0], 28, 28, 1).astype('float32') / 255\n",
    "x_test = x_test.reshape(x_test.shape[0], 28, 28, 1).astype('float32') / 255\n",
    "\n",
    "print(x_train.shape) # (60000, 28, 28, 1)\n",
    "print(x_test.shape)  # (10000, 28, 28, 1)"
   ]
  },
  {
   "cell_type": "markdown",
   "metadata": {},
   "source": [
    "## Obtener dimensiones"
   ]
  },
  {
   "cell_type": "code",
   "execution_count": 5,
   "metadata": {},
   "outputs": [],
   "source": [
    "# con 1: no se cuenta la primera dimensión\n",
    "x, y, channel = x_train.shape[1:]\n",
    "\n",
    "input_shape = (x, y, channel)"
   ]
  },
  {
   "cell_type": "markdown",
   "metadata": {},
   "source": [
    "## Crear modelo"
   ]
  },
  {
   "cell_type": "code",
   "execution_count": 6,
   "metadata": {},
   "outputs": [],
   "source": [
    "from tensorflow.keras.models import Sequential\n",
    "from tensorflow.keras.layers import Dense, Activation, Flatten, Conv2D, MaxPooling2D"
   ]
  },
  {
   "cell_type": "code",
   "execution_count": 7,
   "metadata": {},
   "outputs": [],
   "source": [
    "epoch = 5\n",
    "verbose = 1\n",
    "batch = 50"
   ]
  },
  {
   "cell_type": "markdown",
   "metadata": {},
   "source": [
    "## Capa de convolución\n",
    "\n",
    "\n",
    "![Convolución](img/5.png)\n",
    "\n",
    "- En general se utiliza la convolución 2D para el procesamiento de imagenes\n",
    "- En tamaño del filtro es igual al ancho y largo de los campos receptivos\n",
    "- Pooling reduce el número de parámetros\n",
    "\n",
    "![Max Pooling](img/max.png)\n",
    "\n"
   ]
  },
  {
   "cell_type": "markdown",
   "metadata": {},
   "source": [
    "![Avg Pooling](img/avg.png)\n",
    "\n",
    "_Imágenes generadas con https://github.com/MartinThoma/LaTeX-examples_"
   ]
  },
  {
   "cell_type": "code",
   "execution_count": 8,
   "metadata": {},
   "outputs": [],
   "source": [
    "num_filters = 20\n",
    "filter_size = 3\n",
    "pool_size = 3\n"
   ]
  },
  {
   "cell_type": "markdown",
   "metadata": {},
   "source": [
    "- Diferente notación para crear modelo"
   ]
  },
  {
   "cell_type": "code",
   "execution_count": 9,
   "metadata": {},
   "outputs": [],
   "source": [
    "model = Sequential([\n",
    "  Conv2D(num_filters, filter_size, input_shape=input_shape),\n",
    "  MaxPooling2D(pool_size=pool_size),\n",
    "  Flatten(),\n",
    "  Dense(10, activation='softmax'),\n",
    "])"
   ]
  },
  {
   "cell_type": "markdown",
   "metadata": {},
   "source": [
    "## Compilar"
   ]
  },
  {
   "cell_type": "code",
   "execution_count": 10,
   "metadata": {},
   "outputs": [],
   "source": [
    "model.compile('adam', loss='sparse_categorical_crossentropy', metrics=['accuracy'])"
   ]
  },
  {
   "cell_type": "code",
   "execution_count": 11,
   "metadata": {},
   "outputs": [
    {
     "name": "stdout",
     "output_type": "stream",
     "text": [
      "Model: \"sequential\"\n",
      "_________________________________________________________________\n",
      "Layer (type)                 Output Shape              Param #   \n",
      "=================================================================\n",
      "conv2d (Conv2D)              (None, 26, 26, 20)        200       \n",
      "_________________________________________________________________\n",
      "max_pooling2d (MaxPooling2D) (None, 8, 8, 20)          0         \n",
      "_________________________________________________________________\n",
      "flatten (Flatten)            (None, 1280)              0         \n",
      "_________________________________________________________________\n",
      "dense (Dense)                (None, 10)                12810     \n",
      "=================================================================\n",
      "Total params: 13,010\n",
      "Trainable params: 13,010\n",
      "Non-trainable params: 0\n",
      "_________________________________________________________________\n"
     ]
    }
   ],
   "source": [
    "model.summary()"
   ]
  },
  {
   "cell_type": "code",
   "execution_count": 12,
   "metadata": {},
   "outputs": [],
   "source": [
    "from tensorflow.keras.utils import plot_model"
   ]
  },
  {
   "cell_type": "code",
   "execution_count": 13,
   "metadata": {},
   "outputs": [
    {
     "data": {
      "image/png": "[encoded data removed]",
      "text/plain": [
       "<IPython.core.display.Image object>"
      ]
     },
     "execution_count": 13,
     "metadata": {},
     "output_type": "execute_result"
    }
   ],
   "source": [
    "plot_model(model)"
   ]
  },
  {
   "cell_type": "markdown",
   "metadata": {},
   "source": [
    "## Entrenamiento"
   ]
  },
  {
   "cell_type": "code",
   "execution_count": 14,
   "metadata": {
    "scrolled": true
   },
   "outputs": [
    {
     "name": "stdout",
     "output_type": "stream",
     "text": [
      "Epoch 1/5\n",
      "840/840 [==============================] - 2s 3ms/step - loss: 0.6160 - accuracy: 0.7857 - val_loss: 0.4972 - val_accuracy: 0.8182\n",
      "Epoch 2/5\n",
      "840/840 [==============================] - 2s 2ms/step - loss: 0.4422 - accuracy: 0.8459 - val_loss: 0.4260 - val_accuracy: 0.8488\n",
      "Epoch 3/5\n",
      "840/840 [==============================] - 2s 2ms/step - loss: 0.4054 - accuracy: 0.8584 - val_loss: 0.3946 - val_accuracy: 0.8652\n",
      "Epoch 4/5\n",
      "840/840 [==============================] - 2s 2ms/step - loss: 0.3828 - accuracy: 0.8678 - val_loss: 0.3852 - val_accuracy: 0.8635\n",
      "Epoch 5/5\n",
      "840/840 [==============================] - 2s 3ms/step - loss: 0.3634 - accuracy: 0.8725 - val_loss: 0.3787 - val_accuracy: 0.8647\n"
     ]
    }
   ],
   "source": [
    "history = model.fit(x_train, y_train,\n",
    "  batch_size = batch,\n",
    "  validation_split=0.3,\n",
    "  epochs=epoch, verbose = verbose)"
   ]
  },
  {
   "cell_type": "code",
   "execution_count": 15,
   "metadata": {},
   "outputs": [
    {
     "name": "stdout",
     "output_type": "stream",
     "text": [
      "\n",
      "Test acccuracy: 0.8626999855041504\n"
     ]
    }
   ],
   "source": [
    "test_loss, test_acc = model.evaluate(x_test, y_test, verbose = 0)\n",
    "\n",
    "print('\\nTest acccuracy:', test_acc)"
   ]
  },
  {
   "cell_type": "code",
   "execution_count": 16,
   "metadata": {},
   "outputs": [
    {
     "data": {
      "image/png": "[encoded data removed]",
      "text/plain": [
       "<Figure size 720x648 with 2 Axes>"
      ]
     },
     "metadata": {
      "needs_background": "light"
     },
     "output_type": "display_data"
    }
   ],
   "source": [
    "#plot\n",
    "plt.figure(figsize=(10,9))\n",
    "\n",
    "plt.subplot(211)\n",
    "plt.plot(history.history['accuracy'])\n",
    "plt.plot(history.history['val_accuracy'])\n",
    "plt.title('accuracy')\n",
    "plt.legend(['train', 'test'])\n",
    "plt.grid()\n",
    "plt.subplot(212)\n",
    "plt.plot(history.history['loss'])\n",
    "plt.plot(history.history['val_loss'])\n",
    "plt.title('loss')\n",
    "plt.legend(['train', 'test'])\n",
    "plt.grid()\n",
    "\n",
    "\n",
    "\n",
    "\n",
    "plt.show()"
   ]
  },
  {
   "cell_type": "markdown",
   "metadata": {},
   "source": [
    "## Diferente número de filtros\n",
    "- Observar el número de parámetros y el efecto de los filtros y pooling en 'test accuracy' "
   ]
  },
  {
   "cell_type": "code",
   "execution_count": 17,
   "metadata": {},
   "outputs": [
    {
     "name": "stdout",
     "output_type": "stream",
     "text": [
      "Model: \"sequential_1\"\n",
      "_________________________________________________________________\n",
      "Layer (type)                 Output Shape              Param #   \n",
      "=================================================================\n",
      "conv2d_1 (Conv2D)            (None, 26, 26, 30)        300       \n",
      "_________________________________________________________________\n",
      "max_pooling2d_1 (MaxPooling2 (None, 8, 8, 30)          0         \n",
      "_________________________________________________________________\n",
      "flatten_1 (Flatten)          (None, 1920)              0         \n",
      "_________________________________________________________________\n",
      "dense_1 (Dense)              (None, 10)                19210     \n",
      "=================================================================\n",
      "Total params: 19,510\n",
      "Trainable params: 19,510\n",
      "Non-trainable params: 0\n",
      "_________________________________________________________________\n",
      "Epoch 1/5\n",
      "840/840 [==============================] - 2s 3ms/step - loss: 0.5705 - accuracy: 0.8058 - val_loss: 0.4445 - val_accuracy: 0.8414\n",
      "Epoch 2/5\n",
      "840/840 [==============================] - 2s 3ms/step - loss: 0.4097 - accuracy: 0.8581 - val_loss: 0.4083 - val_accuracy: 0.8583\n",
      "Epoch 3/5\n",
      "840/840 [==============================] - 2s 3ms/step - loss: 0.3766 - accuracy: 0.8692 - val_loss: 0.3756 - val_accuracy: 0.8691\n",
      "Epoch 4/5\n",
      "840/840 [==============================] - 2s 3ms/step - loss: 0.3554 - accuracy: 0.8757 - val_loss: 0.3560 - val_accuracy: 0.8752\n",
      "Epoch 5/5\n",
      "840/840 [==============================] - 2s 3ms/step - loss: 0.3412 - accuracy: 0.8812 - val_loss: 0.3495 - val_accuracy: 0.8782\n"
     ]
    }
   ],
   "source": [
    "num_filters = 30\n",
    "filter_size = 3\n",
    "pool_size = 3\n",
    "\n",
    "model = Sequential([\n",
    "  Conv2D(num_filters, filter_size, input_shape=input_shape),\n",
    "  MaxPooling2D(pool_size=pool_size),\n",
    "  Flatten(),\n",
    "  Dense(10, activation='softmax'),\n",
    "])\n",
    "\n",
    "model.compile('adam', loss='sparse_categorical_crossentropy', metrics=['accuracy'])\n",
    "\n",
    "model.summary()\n",
    "\n",
    "history = model.fit(x_train, y_train,\n",
    "  batch_size = batch,\n",
    "  validation_split=0.3,\n",
    "  epochs=epoch, verbose = verbose)"
   ]
  },
  {
   "cell_type": "code",
   "execution_count": 18,
   "metadata": {},
   "outputs": [
    {
     "name": "stdout",
     "output_type": "stream",
     "text": [
      "\n",
      "Test acccuracy: 0.871399998664856\n"
     ]
    }
   ],
   "source": [
    "test_loss, test_acc = model.evaluate(x_test, y_test, verbose = 0)\n",
    "\n",
    "print('\\nTest acccuracy:', test_acc)"
   ]
  },
  {
   "cell_type": "code",
   "execution_count": 19,
   "metadata": {},
   "outputs": [
    {
     "data": {
      "image/png": "[encoded data removed]",
      "text/plain": [
       "<Figure size 720x648 with 2 Axes>"
      ]
     },
     "metadata": {
      "needs_background": "light"
     },
     "output_type": "display_data"
    }
   ],
   "source": [
    "#plot\n",
    "plt.figure(figsize=(10,9))\n",
    "\n",
    "plt.subplot(211)\n",
    "plt.plot(history.history['accuracy'])\n",
    "plt.plot(history.history['val_accuracy'])\n",
    "plt.title('accuracy')\n",
    "plt.legend(['train', 'test'])\n",
    "plt.grid()\n",
    "plt.subplot(212)\n",
    "plt.plot(history.history['loss'])\n",
    "plt.plot(history.history['val_loss'])\n",
    "plt.title('loss')\n",
    "plt.legend(['train', 'test'])\n",
    "plt.grid()\n",
    "\n",
    "\n",
    "\n",
    "\n",
    "plt.show()"
   ]
  },
  {
   "cell_type": "markdown",
   "metadata": {},
   "source": [
    "## Strides y pooling\n",
    "- Strides indica la unidad de desplazamiento del filtro. Si el valor es mayor a uno, los mapas de salida cuentan con un menor número de parámetros.\n"
   ]
  },
  {
   "cell_type": "code",
   "execution_count": 21,
   "metadata": {},
   "outputs": [
    {
     "name": "stdout",
     "output_type": "stream",
     "text": [
      "Model: \"sequential_2\"\n",
      "_________________________________________________________________\n",
      "Layer (type)                 Output Shape              Param #   \n",
      "=================================================================\n",
      "conv2d_2 (Conv2D)            (None, 13, 13, 30)        300       \n",
      "_________________________________________________________________\n",
      "flatten_2 (Flatten)          (None, 5070)              0         \n",
      "_________________________________________________________________\n",
      "dense_2 (Dense)              (None, 10)                50710     \n",
      "=================================================================\n",
      "Total params: 51,010\n",
      "Trainable params: 51,010\n",
      "Non-trainable params: 0\n",
      "_________________________________________________________________\n",
      "Epoch 1/5\n",
      "840/840 [==============================] - 2s 2ms/step - loss: 0.5653 - accuracy: 0.8016 - val_loss: 0.4677 - val_accuracy: 0.8344\n",
      "Epoch 2/5\n",
      "840/840 [==============================] - 2s 2ms/step - loss: 0.4540 - accuracy: 0.8423 - val_loss: 0.4484 - val_accuracy: 0.8432\n",
      "Epoch 3/5\n",
      "840/840 [==============================] - 2s 2ms/step - loss: 0.4332 - accuracy: 0.8490 - val_loss: 0.4366 - val_accuracy: 0.8507\n",
      "Epoch 4/5\n",
      "840/840 [==============================] - 2s 2ms/step - loss: 0.4227 - accuracy: 0.8535 - val_loss: 0.4399 - val_accuracy: 0.8464\n",
      "Epoch 5/5\n",
      "840/840 [==============================] - 2s 2ms/step - loss: 0.4123 - accuracy: 0.8555 - val_loss: 0.4398 - val_accuracy: 0.8460\n"
     ]
    }
   ],
   "source": [
    "num_filters = 30\n",
    "filter_size = 3\n",
    "\n",
    "\n",
    "model = Sequential([\n",
    "  Conv2D(num_filters, filter_size, input_shape=input_shape, strides=2),\n",
    "  Flatten(),\n",
    "  Dense(10, activation='softmax'),\n",
    "])\n",
    "\n",
    "model.compile('adam', loss='sparse_categorical_crossentropy', metrics=['accuracy'])\n",
    "\n",
    "model.summary()\n",
    "\n",
    "history = model.fit(\n",
    "  x_train, y_train,\n",
    "  batch_size = batch,\n",
    "  validation_split=0.3,\n",
    "  epochs=epoch, verbose = verbose)"
   ]
  },
  {
   "cell_type": "code",
   "execution_count": 22,
   "metadata": {},
   "outputs": [
    {
     "name": "stdout",
     "output_type": "stream",
     "text": [
      "\n",
      "Test acccuracy: 0.8367000222206116\n"
     ]
    }
   ],
   "source": [
    "test_loss, test_acc = model.evaluate(x_test, y_test, verbose = 0)\n",
    "\n",
    "print('\\nTest acccuracy:', test_acc)"
   ]
  },
  {
   "cell_type": "markdown",
   "metadata": {},
   "source": [
    "## DIferente tamaño de pooling\n",
    "- Se obtiene el mismo número de parámetros con strides=2 y sin capa pooling"
   ]
  },
  {
   "cell_type": "code",
   "execution_count": 23,
   "metadata": {},
   "outputs": [
    {
     "name": "stdout",
     "output_type": "stream",
     "text": [
      "Model: \"sequential_3\"\n",
      "_________________________________________________________________\n",
      "Layer (type)                 Output Shape              Param #   \n",
      "=================================================================\n",
      "conv2d_3 (Conv2D)            (None, 26, 26, 30)        300       \n",
      "_________________________________________________________________\n",
      "max_pooling2d_2 (MaxPooling2 (None, 13, 13, 30)        0         \n",
      "_________________________________________________________________\n",
      "flatten_3 (Flatten)          (None, 5070)              0         \n",
      "_________________________________________________________________\n",
      "dense_3 (Dense)              (None, 10)                50710     \n",
      "=================================================================\n",
      "Total params: 51,010\n",
      "Trainable params: 51,010\n",
      "Non-trainable params: 0\n",
      "_________________________________________________________________\n",
      "Epoch 1/5\n",
      "840/840 [==============================] - 3s 3ms/step - loss: 0.5130 - accuracy: 0.8250 - val_loss: 0.4020 - val_accuracy: 0.8603\n",
      "Epoch 2/5\n",
      "840/840 [==============================] - 2s 3ms/step - loss: 0.3769 - accuracy: 0.8702 - val_loss: 0.3681 - val_accuracy: 0.8717\n",
      "Epoch 3/5\n",
      "840/840 [==============================] - 3s 3ms/step - loss: 0.3396 - accuracy: 0.8828 - val_loss: 0.3529 - val_accuracy: 0.8761\n",
      "Epoch 4/5\n",
      "840/840 [==============================] - 2s 3ms/step - loss: 0.3147 - accuracy: 0.8902 - val_loss: 0.3295 - val_accuracy: 0.8842\n",
      "Epoch 5/5\n",
      "840/840 [==============================] - 2s 3ms/step - loss: 0.2952 - accuracy: 0.8976 - val_loss: 0.3163 - val_accuracy: 0.8921\n"
     ]
    }
   ],
   "source": [
    "num_filters = 30\n",
    "filter_size = 3\n",
    "pool_size = 2\n",
    "\n",
    "model = Sequential([\n",
    "  Conv2D(num_filters, filter_size, input_shape=input_shape),\n",
    "  MaxPooling2D(pool_size=pool_size),\n",
    "  Flatten(),\n",
    "  Dense(10, activation='softmax'),\n",
    "])\n",
    "\n",
    "model.compile('adam', loss='sparse_categorical_crossentropy', metrics=['accuracy'])\n",
    "\n",
    "model.summary()\n",
    "\n",
    "history = model.fit(\n",
    "  x_train, y_train,\n",
    "  batch_size = batch,\n",
    "  validation_split=0.3,\n",
    "  epochs=epoch, verbose = verbose)"
   ]
  },
  {
   "cell_type": "code",
   "execution_count": 24,
   "metadata": {},
   "outputs": [
    {
     "name": "stdout",
     "output_type": "stream",
     "text": [
      "\n",
      "Test acccuracy: 0.8824999928474426\n"
     ]
    }
   ],
   "source": [
    "test_loss, test_acc = model.evaluate(x_test, y_test, verbose = 0)\n",
    "\n",
    "print('\\nTest acccuracy:', test_acc)"
   ]
  },
  {
   "cell_type": "markdown",
   "metadata": {},
   "source": [
    "# Probar predicciones del modelo\n",
    "- 'argmax' retorna el elemento de mayor valor"
   ]
  },
  {
   "cell_type": "code",
   "execution_count": 25,
   "metadata": {
    "scrolled": true
   },
   "outputs": [
    {
     "name": "stdout",
     "output_type": "stream",
     "text": [
      "[9 2 1 1 6]\n",
      "[9 2 1 1 6]\n"
     ]
    }
   ],
   "source": [
    "# Primeras 5 imagenes de test\n",
    "predictions = model.predict(x_test[:5])\n",
    "\n",
    "print(np.argmax(predictions, axis=1)) \n",
    "p = np.argmax(predictions, axis=1)\n",
    "\n",
    "print(y_test[:5])"
   ]
  },
  {
   "cell_type": "code",
   "execution_count": 26,
   "metadata": {},
   "outputs": [
    {
     "data": {
      "image/png": "[encoded data removed]",
      "text/plain": [
       "<Figure size 432x288 with 1 Axes>"
      ]
     },
     "metadata": {
      "needs_background": "light"
     },
     "output_type": "display_data"
    }
   ],
   "source": [
    "plt.imshow(np.squeeze(x_test[1]))\n",
    "plt.title('Label:' + class_names[int(y_test[1])] \n",
    "          + ' Predict:'+  class_names[int(p[1])])\n",
    "plt.show()"
   ]
  },
  {
   "cell_type": "markdown",
   "metadata": {},
   "source": [
    "- Mejorar la arquitectura\n",
    "- Probar con otro dataset"
   ]
  }
 ],
 "metadata": {
  "kernelspec": {
   "display_name": "Python 3",
   "language": "python",
   "name": "python3"
  },
  "language_info": {
   "codemirror_mode": {
    "name": "ipython",
    "version": 3
   },
   "file_extension": ".py",
   "mimetype": "text/x-python",
   "name": "python",
   "nbconvert_exporter": "python",
   "pygments_lexer": "ipython3",
   "version": "3.7.7"
  }
 },
 "nbformat": 4,
 "nbformat_minor": 4
}
