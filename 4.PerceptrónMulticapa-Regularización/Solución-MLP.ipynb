{
 "cells": [
  {
   "cell_type": "markdown",
   "metadata": {},
   "source": [
    "# Actividad Perceptron Multicapa\n",
    "- Objetivo: Crear un modelo para obtener un 97% de Test accuracy con un máximo de 2 capas ocultas sin usar regularización l2, en no más de 25 épocas.\n",
    "\n",
    "Tiempo máximo: 1 hora\n",
    "\n",
    "- Nota: Utilizar las técnicas de reguarización y optimización"
   ]
  },
  {
   "cell_type": "code",
   "execution_count": 1,
   "metadata": {},
   "outputs": [],
   "source": [
    "import matplotlib.pyplot as plt\n",
    "from sklearn.model_selection import train_test_split\n",
    "import tensorflow as tf\n",
    "from tensorflow import keras\n",
    "from tensorflow.keras.models import Sequential\n",
    "from tensorflow.keras.layers import Dense, Activation, BatchNormalization\n",
    "from tensorflow.keras import backend as K\n",
    "K.clear_session()\n",
    "\n",
    "\n",
    "mnist = keras.datasets.mnist\n",
    " \n",
    "(x_train, y_train), (x_test, y_test) = mnist.load_data()"
   ]
  },
  {
   "cell_type": "code",
   "execution_count": 2,
   "metadata": {},
   "outputs": [
    {
     "name": "stdout",
     "output_type": "stream",
     "text": [
      "(60000, 28, 28)\n",
      "(60000,)\n",
      "(10000, 28, 28)\n",
      "(10000,)\n"
     ]
    }
   ],
   "source": [
    "print(x_train.shape)\n",
    "print(y_train.shape)\n",
    "print(x_test.shape)  \n",
    "print(y_test.shape)  "
   ]
  },
  {
   "cell_type": "markdown",
   "metadata": {},
   "source": [
    "- Se modifica la forma de los datos de 2-d (n, 28, 28) a 1-d (n, 784)"
   ]
  },
  {
   "cell_type": "code",
   "execution_count": 3,
   "metadata": {},
   "outputs": [
    {
     "name": "stdout",
     "output_type": "stream",
     "text": [
      "(60000, 784)\n",
      "(60000,)\n",
      "(10000, 784)\n",
      "(10000,)\n"
     ]
    }
   ],
   "source": [
    "x_train = x_train.reshape(x_train.shape[0], -1)\n",
    "x_test = x_test.reshape(x_test.shape[0], -1)\n",
    "\n",
    "\n",
    "print(x_train.shape) # (60000, 784)\n",
    "print(y_train.shape) # (60000,)\n",
    "print(x_test.shape)  # (10000, 784)\n",
    "print(y_test.shape)  # (10000,)"
   ]
  },
  {
   "cell_type": "markdown",
   "metadata": {},
   "source": [
    "## Leer Dataset"
   ]
  },
  {
   "cell_type": "code",
   "execution_count": 4,
   "metadata": {},
   "outputs": [],
   "source": [
    "epoch = 21\n",
    "verbose = 0\n",
    "batch = 50"
   ]
  },
  {
   "cell_type": "code",
   "execution_count": 5,
   "metadata": {},
   "outputs": [],
   "source": [
    "K.clear_session()"
   ]
  },
  {
   "cell_type": "code",
   "execution_count": 6,
   "metadata": {
    "scrolled": true
   },
   "outputs": [
    {
     "name": "stdout",
     "output_type": "stream",
     "text": [
      "Model: \"sequential\"\n",
      "_________________________________________________________________\n",
      "Layer (type)                 Output Shape              Param #   \n",
      "=================================================================\n",
      "dense (Dense)                (None, 60)                47100     \n",
      "_________________________________________________________________\n",
      "batch_normalization (BatchNo (None, 60)                240       \n",
      "_________________________________________________________________\n",
      "activation (Activation)      (None, 60)                0         \n",
      "_________________________________________________________________\n",
      "dense_1 (Dense)              (None, 60)                3660      \n",
      "_________________________________________________________________\n",
      "batch_normalization_1 (Batch (None, 60)                240       \n",
      "_________________________________________________________________\n",
      "activation_1 (Activation)    (None, 60)                0         \n",
      "_________________________________________________________________\n",
      "dense_2 (Dense)              (None, 10)                610       \n",
      "_________________________________________________________________\n",
      "activation_2 (Activation)    (None, 10)                0         \n",
      "=================================================================\n",
      "Total params: 51,850\n",
      "Trainable params: 51,610\n",
      "Non-trainable params: 240\n",
      "_________________________________________________________________\n",
      "Train on 42000 samples, validate on 18000 samples\n",
      "Epoch 1/21\n",
      "42000/42000 [==============================] - 4s 87us/sample - loss: 0.3610 - accuracy: 0.8994 - val_loss: 0.1711 - val_accuracy: 0.9509\n",
      "Epoch 2/21\n",
      "42000/42000 [==============================] - 3s 68us/sample - loss: 0.1459 - accuracy: 0.9563 - val_loss: 0.1300 - val_accuracy: 0.9613\n",
      "Epoch 3/21\n",
      "42000/42000 [==============================] - 3s 67us/sample - loss: 0.1050 - accuracy: 0.9679 - val_loss: 0.1112 - val_accuracy: 0.9658\n",
      "Epoch 4/21\n",
      "42000/42000 [==============================] - 3s 68us/sample - loss: 0.0841 - accuracy: 0.9734 - val_loss: 0.1117 - val_accuracy: 0.9661\n",
      "Epoch 5/21\n",
      "42000/42000 [==============================] - 3s 65us/sample - loss: 0.0724 - accuracy: 0.9773 - val_loss: 0.1064 - val_accuracy: 0.9682\n",
      "Epoch 6/21\n",
      "42000/42000 [==============================] - 3s 63us/sample - loss: 0.0594 - accuracy: 0.9812 - val_loss: 0.1113 - val_accuracy: 0.9668\n",
      "Epoch 7/21\n",
      "42000/42000 [==============================] - 3s 67us/sample - loss: 0.0542 - accuracy: 0.9819 - val_loss: 0.1071 - val_accuracy: 0.9687\n",
      "Epoch 8/21\n",
      "42000/42000 [==============================] - 3s 65us/sample - loss: 0.0468 - accuracy: 0.9847 - val_loss: 0.1049 - val_accuracy: 0.9692\n",
      "Epoch 9/21\n",
      "42000/42000 [==============================] - 3s 62us/sample - loss: 0.0427 - accuracy: 0.9866 - val_loss: 0.1044 - val_accuracy: 0.9703\n",
      "Epoch 10/21\n",
      "42000/42000 [==============================] - 3s 64us/sample - loss: 0.0365 - accuracy: 0.9881 - val_loss: 0.1001 - val_accuracy: 0.9713\n",
      "Epoch 11/21\n",
      "42000/42000 [==============================] - 3s 63us/sample - loss: 0.0363 - accuracy: 0.9875 - val_loss: 0.1011 - val_accuracy: 0.9720\n",
      "Epoch 12/21\n",
      "42000/42000 [==============================] - 3s 64us/sample - loss: 0.0325 - accuracy: 0.9890 - val_loss: 0.1054 - val_accuracy: 0.9711\n",
      "Epoch 13/21\n",
      "42000/42000 [==============================] - 3s 65us/sample - loss: 0.0289 - accuracy: 0.9909 - val_loss: 0.1123 - val_accuracy: 0.9697\n",
      "Epoch 14/21\n",
      "42000/42000 [==============================] - 3s 64us/sample - loss: 0.0300 - accuracy: 0.9897 - val_loss: 0.1085 - val_accuracy: 0.9717\n",
      "Epoch 15/21\n",
      "42000/42000 [==============================] - 3s 64us/sample - loss: 0.0251 - accuracy: 0.9917 - val_loss: 0.1121 - val_accuracy: 0.9722\n",
      "Epoch 16/21\n",
      "42000/42000 [==============================] - 3s 62us/sample - loss: 0.0253 - accuracy: 0.9920 - val_loss: 0.1078 - val_accuracy: 0.9726\n",
      "Epoch 17/21\n",
      "42000/42000 [==============================] - 3s 63us/sample - loss: 0.0240 - accuracy: 0.9920 - val_loss: 0.1135 - val_accuracy: 0.9712\n",
      "Epoch 18/21\n",
      "42000/42000 [==============================] - 3s 64us/sample - loss: 0.0227 - accuracy: 0.9920 - val_loss: 0.1066 - val_accuracy: 0.9731\n",
      "Epoch 19/21\n",
      "42000/42000 [==============================] - 3s 68us/sample - loss: 0.0213 - accuracy: 0.9931 - val_loss: 0.1194 - val_accuracy: 0.9713\n",
      "Epoch 20/21\n",
      "42000/42000 [==============================] - 3s 67us/sample - loss: 0.0211 - accuracy: 0.9933 - val_loss: 0.1090 - val_accuracy: 0.9742\n",
      "Epoch 21/21\n",
      "42000/42000 [==============================] - 3s 63us/sample - loss: 0.0194 - accuracy: 0.9936 - val_loss: 0.1170 - val_accuracy: 0.9721\n",
      "10000/1 - 1s - loss: 0.0542 - accuracy: 0.9755\n",
      "\n",
      "Test acccuracy: 0.9755\n"
     ]
    }
   ],
   "source": [
    "def make_model():\n",
    "    model = Sequential()\n",
    "    \n",
    "    model.add(Dense(60, input_shape = (784, )))\n",
    "    model.add(BatchNormalization(momentum=0.99)) \n",
    "    model.add(Activation('relu'))\n",
    "    model.add(Dense(60))\n",
    "    model.add(BatchNormalization(momentum=0.99)) \n",
    "    model.add(Activation('relu'))    \n",
    "    model.add(Dense(10))\n",
    "    model.add(Activation('softmax'))\n",
    "    \n",
    "    model.compile(optimizer='adam', loss='sparse_categorical_crossentropy',\n",
    "                  metrics=['accuracy'])\n",
    "\n",
    "    return model\n",
    "\n",
    "# Fit\n",
    "model = make_model()\n",
    "\n",
    "model.summary()\n",
    "# lista de datos\n",
    "history = model.fit(x_train, y_train, batch_size = batch, validation_split = 0.3,\n",
    "                    epochs = epoch, verbose = 1)\n",
    "\n",
    "test_loss, test_acc = model.evaluate(x_test,  y_test, verbose=2)\n",
    "\n",
    "print('\\nTest acccuracy:', test_acc)"
   ]
  },
  {
   "cell_type": "code",
   "execution_count": 7,
   "metadata": {},
   "outputs": [
    {
     "name": "stdout",
     "output_type": "stream",
     "text": [
      "10000/1 - 0s - loss: 0.0542 - accuracy: 0.9755\n"
     ]
    }
   ],
   "source": [
    "test_loss, test_acc = model.evaluate(x_test,  y_test, verbose=2)"
   ]
  },
  {
   "cell_type": "code",
   "execution_count": 8,
   "metadata": {},
   "outputs": [
    {
     "data": {
      "image/png": "[encoded data removed]",
      "text/plain": [
       "<Figure size 720x648 with 2 Axes>"
      ]
     },
     "metadata": {
      "needs_background": "light"
     },
     "output_type": "display_data"
    }
   ],
   "source": [
    "# plot\n",
    "plt.figure(figsize=(10,9))\n",
    "\n",
    "plt.subplot(211)\n",
    "plt.plot(history.history['accuracy'])\n",
    "plt.plot(history.history['val_accuracy'])\n",
    "\n",
    "plt.title('accuracy')\n",
    "plt.legend(['train', 'test'])\n",
    "plt.grid()\n",
    "plt.subplot(212)\n",
    "plt.plot(history.history['loss'])\n",
    "plt.plot(history.history['val_loss'])\n",
    "plt.title('loss')\n",
    "plt.legend(['train', 'test'])\n",
    "plt.grid()\n",
    "\n",
    "\n",
    "\n",
    "\n",
    "plt.show()"
   ]
  }
 ],
 "metadata": {
  "kernelspec": {
   "display_name": "Python 3",
   "language": "python",
   "name": "python3"
  },
  "language_info": {
   "codemirror_mode": {
    "name": "ipython",
    "version": 3
   },
   "file_extension": ".py",
   "mimetype": "text/x-python",
   "name": "python",
   "nbconvert_exporter": "python",
   "pygments_lexer": "ipython3",
   "version": "3.7.5"
  }
 },
 "nbformat": 4,
 "nbformat_minor": 4
}
