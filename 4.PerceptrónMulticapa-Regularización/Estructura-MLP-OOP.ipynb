{
 "cells": [
  {
   "cell_type": "markdown",
   "metadata": {},
   "source": [
    "# Perceptrón Multicapa Imperative/Training loop\n",
    "- Objetivo: Programar un MLP en notación orientada a objetos con Tensorflow 2\n",
    "- Los modelos son más personalizables para tareas como investigación\n",
    "\n",
    "https://blog.tensorflow.org/2019/01/what-are-symbolic-and-imperative-apis.html"
   ]
  },
  {
   "cell_type": "code",
   "execution_count": 1,
   "metadata": {},
   "outputs": [],
   "source": [
    "import matplotlib.pyplot as plt\n",
    "from sklearn.datasets import load_breast_cancer\n",
    "from sklearn.model_selection import train_test_split\n",
    "import tensorflow as tf\n",
    "import numpy as np"
   ]
  },
  {
   "cell_type": "code",
   "execution_count": 2,
   "metadata": {},
   "outputs": [],
   "source": [
    "data = load_breast_cancer()"
   ]
  },
  {
   "cell_type": "code",
   "execution_count": 3,
   "metadata": {},
   "outputs": [],
   "source": [
    "X_data = data.data\n",
    "y_data = data.target"
   ]
  },
  {
   "cell_type": "code",
   "execution_count": 4,
   "metadata": {},
   "outputs": [],
   "source": [
    "x_train, x_test, y_train, y_test = train_test_split(X_data, y_data, test_size = 0.33, random_state = 23) "
   ]
  },
  {
   "cell_type": "code",
   "execution_count": 5,
   "metadata": {},
   "outputs": [
    {
     "name": "stdout",
     "output_type": "stream",
     "text": [
      "(381, 30)\n",
      "(188, 30)\n",
      "(381,)\n",
      "(188,)\n"
     ]
    }
   ],
   "source": [
    "print(x_train.shape)\n",
    "print(x_test.shape)\n",
    "print(y_train.shape)\n",
    "print(y_test.shape)"
   ]
  },
  {
   "cell_type": "code",
   "execution_count": 6,
   "metadata": {},
   "outputs": [],
   "source": [
    "batch_size = 32\n",
    "\n",
    "train_ds = tf.data.Dataset.from_tensor_slices(\n",
    "    (x_train, y_train)).shuffle(10000).batch(batch_size)\n"
   ]
  },
  {
   "cell_type": "code",
   "execution_count": 7,
   "metadata": {},
   "outputs": [],
   "source": [
    "from tensorflow.keras.layers import Dense\n",
    "from tensorflow.keras import Model"
   ]
  },
  {
   "cell_type": "markdown",
   "metadata": {},
   "source": [
    "## Crear modelo\n",
    "- Se crea una clase, las capas se definen en el constructor y el método call indica el flujo"
   ]
  },
  {
   "cell_type": "code",
   "execution_count": 8,
   "metadata": {},
   "outputs": [],
   "source": [
    "class MLP(Model):\n",
    "    def __init__(self):\n",
    "        super(MLP, self).__init__()\n",
    "        self.d1 = Dense(30, activation='sigmoid', name='input')\n",
    "        self.d2 = Dense(20, activation='sigmoid', name='hidden')\n",
    "        self.d3 = Dense(1, activation='sigmoid', name='output')\n",
    "\n",
    "    def call(self, x): # método call que pasa 'x' por capa\n",
    "        x = self.d1(x)\n",
    "        x = self.d2(x)\n",
    "        return self.d3(x)\n"
   ]
  },
  {
   "cell_type": "code",
   "execution_count": 9,
   "metadata": {},
   "outputs": [
    {
     "name": "stdout",
     "output_type": "stream",
     "text": [
      "Model: \"mlp\"\n",
      "_________________________________________________________________\n",
      "Layer (type)                 Output Shape              Param #   \n",
      "=================================================================\n",
      "input (Dense)                multiple                  930       \n",
      "_________________________________________________________________\n",
      "hidden (Dense)               multiple                  620       \n",
      "_________________________________________________________________\n",
      "output (Dense)               multiple                  21        \n",
      "=================================================================\n",
      "Total params: 1,571\n",
      "Trainable params: 1,571\n",
      "Non-trainable params: 0\n",
      "_________________________________________________________________\n"
     ]
    }
   ],
   "source": [
    "model = MLP()\n",
    "model.build(input_shape=(None, 30))\n",
    "model.summary()"
   ]
  },
  {
   "cell_type": "markdown",
   "metadata": {},
   "source": [
    "- Optimizador y función de costo"
   ]
  },
  {
   "cell_type": "code",
   "execution_count": 10,
   "metadata": {},
   "outputs": [],
   "source": [
    "loss_fn = tf.keras.losses.BinaryCrossentropy()\n",
    "optimizer = tf.keras.optimizers.SGD()"
   ]
  },
  {
   "cell_type": "markdown",
   "metadata": {},
   "source": [
    "- Métricas"
   ]
  },
  {
   "cell_type": "code",
   "execution_count": 11,
   "metadata": {},
   "outputs": [],
   "source": [
    "train_loss = tf.keras.metrics.BinaryCrossentropy(name='train_loss')\n",
    "train_accuracy = tf.keras.metrics.BinaryAccuracy(name='train_accuracy')"
   ]
  },
  {
   "cell_type": "markdown",
   "metadata": {},
   "source": [
    "- Listas para plot"
   ]
  },
  {
   "cell_type": "code",
   "execution_count": 12,
   "metadata": {},
   "outputs": [],
   "source": [
    "hist_loss = []\n",
    "hist_acc = []"
   ]
  },
  {
   "cell_type": "markdown",
   "metadata": {},
   "source": [
    "# Entrenamiento\n",
    "- Se hace un ciclo por épocas en donde se itera por cada época sobre cada par de datos y etiquetas de entrenamiento"
   ]
  },
  {
   "cell_type": "markdown",
   "metadata": {},
   "source": [
    "- *Nota: El entrenamiento con 'tf.function decorator' tiene un mejor desempeño al compilarse en grafo. Para simplificar el ejemplo, también se omite el entrenamiento en conjunto de prueba*"
   ]
  },
  {
   "cell_type": "code",
   "execution_count": 13,
   "metadata": {},
   "outputs": [
    {
     "name": "stdout",
     "output_type": "stream",
     "text": [
      "WARNING:tensorflow:Layer mlp is casting an input tensor from dtype float64 to the layer's dtype of float32, which is new behavior in TensorFlow 2.  The layer has dtype float32 because it's dtype defaults to floatx.\n",
      "\n",
      "If you intended to run this layer in float32, you can safely ignore this warning. If in doubt, this warning is likely only an issue if you are porting a TensorFlow 1.X model to TensorFlow 2.\n",
      "\n",
      "To change all layers to have dtype float64 by default, call `tf.keras.backend.set_floatx('float64')`. To change just this layer, pass dtype='float64' to the layer constructor. If you are the author of this layer, you can disable autocasting by passing autocast=False to the base Layer constructor.\n",
      "\n",
      "Epoch 1/20 \n",
      " - loss: 0.6844579577445984 - accuracy: 0.6170976758003235\n",
      "Epoch 2/20 \n",
      " - loss: 0.6588442921638489 - accuracy: 0.7556573748588562\n",
      "Epoch 3/20 \n",
      " - loss: 0.6512103080749512 - accuracy: 0.7567349076271057\n",
      "Epoch 4/20 \n",
      " - loss: 0.6424896121025085 - accuracy: 0.6350574493408203\n",
      "Epoch 5/20 \n",
      " - loss: 0.6406248211860657 - accuracy: 0.6350574493408203\n",
      "Epoch 6/20 \n",
      " - loss: 0.6302149295806885 - accuracy: 0.6350574493408203\n",
      "Epoch 7/20 \n",
      " - loss: 0.6354005932807922 - accuracy: 0.6347880959510803\n",
      "Epoch 8/20 \n",
      " - loss: 0.6437819600105286 - accuracy: 0.6355962753295898\n",
      "Epoch 9/20 \n",
      " - loss: 0.6412071585655212 - accuracy: 0.6345186829566956\n",
      "Epoch 10/20 \n",
      " - loss: 0.6368744969367981 - accuracy: 0.6345186829566956\n",
      "Epoch 11/20 \n",
      " - loss: 0.6342592239379883 - accuracy: 0.6353268623352051\n",
      "Epoch 12/20 \n",
      " - loss: 0.6314993500709534 - accuracy: 0.6355962753295898\n",
      "Epoch 13/20 \n",
      " - loss: 0.6359333395957947 - accuracy: 0.633979856967926\n",
      "Epoch 14/20 \n",
      " - loss: 0.6329274773597717 - accuracy: 0.6345186829566956\n",
      "Epoch 15/20 \n",
      " - loss: 0.6314908862113953 - accuracy: 0.6361350417137146\n",
      "Epoch 16/20 \n",
      " - loss: 0.6317090392112732 - accuracy: 0.6353268623352051\n",
      "Epoch 17/20 \n",
      " - loss: 0.6305532455444336 - accuracy: 0.6366738677024841\n",
      "Epoch 18/20 \n",
      " - loss: 0.6310041546821594 - accuracy: 0.6345186829566956\n",
      "Epoch 19/20 \n",
      " - loss: 0.6305307149887085 - accuracy: 0.633979856967926\n",
      "Epoch 20/20 \n",
      " - loss: 0.6290386319160461 - accuracy: 0.6350574493408203\n"
     ]
    }
   ],
   "source": [
    "EPOCH = 20\n",
    "for epoch in range(EPOCH):\n",
    "    #entrenamiento\n",
    "    for data, target in train_ds:\n",
    "        with tf.GradientTape() as tape:\n",
    "            predictions = model(data)# predicciones\n",
    "            loss = loss_fn(target, predictions) # target y predicciones para obtener acc\n",
    "        gradients = tape.gradient(loss, model.trainable_variables) # gradiente sobre variables entrenables\n",
    "        optimizer.apply_gradients(zip(gradients, model.trainable_variables))\n",
    "        # se guardan metricas\n",
    "        train_loss(target, predictions)\n",
    "        train_accuracy(target, predictions)\n",
    "    \n",
    "\n",
    "    template = 'Epoch {}/{} \\n - loss: {} - accuracy: {}'\n",
    "    print(template.format(epoch+1, EPOCH,\n",
    "                        train_loss.result(), train_accuracy.result()))\n",
    "    # lista para plot\n",
    "    hist_loss.append(train_loss.result())\n",
    "    hist_acc.append(train_accuracy.result())\n",
    "    # reinicia las metricas para la siguiente epoca\n",
    "    train_loss.reset_states()\n",
    "    train_accuracy.reset_states()"
   ]
  },
  {
   "cell_type": "code",
   "execution_count": 14,
   "metadata": {},
   "outputs": [
    {
     "data": {
      "image/png": "[encoded data removed]",
      "text/plain": [
       "<Figure size 720x648 with 1 Axes>"
      ]
     },
     "metadata": {
      "needs_background": "light"
     },
     "output_type": "display_data"
    }
   ],
   "source": [
    "plt.figure(figsize=(10,9))\n",
    "plt.plot(np.arange(len(hist_acc)), hist_acc)\n",
    "plt.title('Train accuracy')\n",
    "plt.legend(['accuracy'])\n",
    "plt.grid()"
   ]
  },
  {
   "cell_type": "code",
   "execution_count": 15,
   "metadata": {},
   "outputs": [
    {
     "data": {
      "image/png": "[encoded data removed]",
      "text/plain": [
       "<Figure size 720x648 with 1 Axes>"
      ]
     },
     "metadata": {
      "needs_background": "light"
     },
     "output_type": "display_data"
    }
   ],
   "source": [
    "plt.figure(figsize=(10,9))\n",
    "plt.plot(np.arange(len(hist_loss)), hist_loss)\n",
    "plt.title('Train loss')\n",
    "plt.legend(['loss'])\n",
    "plt.grid()"
   ]
  },
  {
   "cell_type": "markdown",
   "metadata": {},
   "source": [
    "- Mejorar el modelo\n",
    "- Agregar conjunto de validación\n",
    "- Implementar con otro dataset"
   ]
  }
 ],
 "metadata": {
  "kernelspec": {
   "display_name": "Python 3",
   "language": "python",
   "name": "python3"
  },
  "language_info": {
   "codemirror_mode": {
    "name": "ipython",
    "version": 3
   },
   "file_extension": ".py",
   "mimetype": "text/x-python",
   "name": "python",
   "nbconvert_exporter": "python",
   "pygments_lexer": "ipython3",
   "version": "3.7.5"
  }
 },
 "nbformat": 4,
 "nbformat_minor": 4
}
